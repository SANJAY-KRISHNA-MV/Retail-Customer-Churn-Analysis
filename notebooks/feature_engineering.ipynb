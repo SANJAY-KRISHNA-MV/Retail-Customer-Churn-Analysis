{
 "cells": [
  {
   "cell_type": "markdown",
   "id": "453b51d3",
   "metadata": {},
   "source": [
    "# --- Phase 3: Data Preprocessing & Feature Engineering ---  \n",
    "\n",
    "This notebook focuses on transforming the cleaned transactional data into customer-level features suitable for machine learning. Key steps include defining the churn window, calculating RFM metrics, deriving customer tenure, and creating the churn target variable."
   ]
  },
  {
   "cell_type": "code",
   "execution_count": 108,
   "id": "5c83940f",
   "metadata": {},
   "outputs": [
    {
     "name": "stdout",
     "output_type": "stream",
     "text": [
      "Libraries imported successfully!\n"
     ]
    }
   ],
   "source": [
    "# Import necessary libraries\n",
    "import pandas as pd\n",
    "import numpy as np\n",
    "from datetime import datetime, timedelta\n",
    "import matplotlib.pyplot as plt\n",
    "import seaborn as sns\n",
    "\n",
    "# Set display options for better viewing of DataFrames\n",
    "pd.set_option('display.max_columns', None)\n",
    "pd.set_option('display.width', 1000)\n",
    "\n",
    "print(\"Libraries imported successfully!\")"
   ]
  },
  {
   "cell_type": "markdown",
   "id": "a05efed6",
   "metadata": {},
   "source": [
    "# --- 1. Load Cleaned Data ---"
   ]
  },
  {
   "cell_type": "code",
   "execution_count": 109,
   "id": "f3ed7884",
   "metadata": {},
   "outputs": [
    {
     "name": "stdout",
     "output_type": "stream",
     "text": [
      "\n",
      "Successfully loaded cleaned data from ../data/processed/online_retail_cleaned.csv\n",
      "Cleaned data shape: (779425, 9)\n",
      "<class 'pandas.core.frame.DataFrame'>\n",
      "RangeIndex: 779425 entries, 0 to 779424\n",
      "Data columns (total 9 columns):\n",
      " #   Column       Non-Null Count   Dtype         \n",
      "---  ------       --------------   -----         \n",
      " 0   Invoice      779425 non-null  int64         \n",
      " 1   StockCode    779425 non-null  object        \n",
      " 2   Description  779425 non-null  object        \n",
      " 3   Quantity     779425 non-null  int64         \n",
      " 4   InvoiceDate  779425 non-null  datetime64[ns]\n",
      " 5   Price        779425 non-null  float64       \n",
      " 6   Customer ID  779425 non-null  int64         \n",
      " 7   Country      779425 non-null  object        \n",
      " 8   TotalPrice   779425 non-null  float64       \n",
      "dtypes: datetime64[ns](1), float64(2), int64(3), object(3)\n",
      "memory usage: 53.5+ MB\n",
      "None\n"
     ]
    }
   ],
   "source": [
    "cleaned_data_path = r'../data/processed/online_retail_cleaned.csv'\n",
    "\n",
    "try:\n",
    "    df_cleaned = pd.read_csv(cleaned_data_path)\n",
    "    # Ensure 'InvoiceDate' is in datetime format, as it's crucial for time-based features\n",
    "    df_cleaned['InvoiceDate'] = pd.to_datetime(df_cleaned['InvoiceDate'])\n",
    "    print(f\"\\nSuccessfully loaded cleaned data from {cleaned_data_path}\")\n",
    "    print(f\"Cleaned data shape: {df_cleaned.shape}\")\n",
    "    print(df_cleaned.info())\n",
    "except FileNotFoundError:\n",
    "    print(f\"Error: Cleaned data file not found at {cleaned_data_path}. Please ensure 01_data_acquisition_and_eda.ipynb was run successfully.\")\n",
    "    df_cleaned = pd.DataFrame()\n",
    "except Exception as e:\n",
    "    print(f\"An error occurred while loading cleaned data: {e}\")\n",
    "    df_cleaned = pd.DataFrame()"
   ]
  },
  {
   "cell_type": "markdown",
   "id": "1ad2671d",
   "metadata": {},
   "source": [
    "# --- 2. Define Observation and Churn Periods ---"
   ]
  },
  {
   "cell_type": "code",
   "execution_count": 110,
   "id": "e12b3b4b",
   "metadata": {},
   "outputs": [
    {
     "name": "stdout",
     "output_type": "stream",
     "text": [
      "\n",
      "Analysis End Date (Last transaction in data): 2011-12-09 12:50:00\n",
      "Observation End Date (Features calculated up to this date): 2011-09-10 12:50:00\n",
      "Churn Window (Period to check for churn): 2011-09-10 12:50:00 to 2011-12-09 12:50:00\n"
     ]
    }
   ],
   "source": [
    "# Based on the EDA, the data ends on 2011-12-09.\n",
    "# We will define a 3-month churn window.\n",
    "\n",
    "analysis_end_date = df_cleaned['InvoiceDate'].max() # The very last transaction date in our dataset\n",
    "churn_window_duration = timedelta(days=90) # 3 months for the churn observation period\n",
    "observation_end_date = analysis_end_date - churn_window_duration\n",
    "\n",
    "print(f\"\\nAnalysis End Date (Last transaction in data): {analysis_end_date}\")\n",
    "print(f\"Observation End Date (Features calculated up to this date): {observation_end_date}\")\n",
    "print(f\"Churn Window (Period to check for churn): {observation_end_date} to {analysis_end_date}\")"
   ]
  },
  {
   "cell_type": "code",
   "execution_count": 111,
   "id": "9facf7e2",
   "metadata": {},
   "outputs": [
    {
     "name": "stdout",
     "output_type": "stream",
     "text": [
      "\n",
      "Shape of data used for observation features: (620572, 9)\n"
     ]
    }
   ],
   "source": [
    "# Create a DataFrame for customers active up to the observation_end_date\n",
    "df_observation = df_cleaned[df_cleaned['InvoiceDate'] <= observation_end_date].copy()\n",
    "print(f\"\\nShape of data used for observation features: {df_observation.shape}\")\n",
    "if df_observation.empty:\n",
    "    print(\"Warning: df_observation is empty. This will lead to empty customer features.\")\n",
    "    # We'll exit gracefully if df_observation is empty, as no features can be built.\n",
    "    # This will prevent the KeyError later.\n",
    "    exit()"
   ]
  },
  {
   "cell_type": "markdown",
   "id": "7b26b9c0",
   "metadata": {},
   "source": [
    "# --- 3. Feature Engineering: RFM (Recency, Frequency, Monetary) ---  \n",
    "\n",
    "RFM is calculated *only on the observation period* to avoid data leakage from the churn window.  "
   ]
  },
  {
   "cell_type": "code",
   "execution_count": 112,
   "id": "a8b3ae2f",
   "metadata": {},
   "outputs": [
    {
     "name": "stdout",
     "output_type": "stream",
     "text": [
      "\n",
      "--- Diagnostic: customer_monetary head ---\n"
     ]
    },
    {
     "data": {
      "application/vnd.microsoft.datawrangler.viewer.v0+json": {
       "columns": [
        {
         "name": "index",
         "rawType": "int64",
         "type": "integer"
        },
        {
         "name": "Customer ID",
         "rawType": "int64",
         "type": "integer"
        },
        {
         "name": "Monetary",
         "rawType": "float64",
         "type": "float"
        }
       ],
       "ref": "e329cc22-8a56-4308-a39f-bb60a3eae7e6",
       "rows": [
        [
         "0",
         "12346",
         "77556.46"
        ],
        [
         "1",
         "12347",
         "3402.39"
        ],
        [
         "2",
         "12348",
         "1709.3999999999999"
        ],
        [
         "3",
         "12349",
         "2671.14"
        ],
        [
         "4",
         "12350",
         "334.40000000000003"
        ]
       ],
       "shape": {
        "columns": 2,
        "rows": 5
       }
      },
      "text/html": [
       "<div>\n",
       "<style scoped>\n",
       "    .dataframe tbody tr th:only-of-type {\n",
       "        vertical-align: middle;\n",
       "    }\n",
       "\n",
       "    .dataframe tbody tr th {\n",
       "        vertical-align: top;\n",
       "    }\n",
       "\n",
       "    .dataframe thead th {\n",
       "        text-align: right;\n",
       "    }\n",
       "</style>\n",
       "<table border=\"1\" class=\"dataframe\">\n",
       "  <thead>\n",
       "    <tr style=\"text-align: right;\">\n",
       "      <th></th>\n",
       "      <th>Customer ID</th>\n",
       "      <th>Monetary</th>\n",
       "    </tr>\n",
       "  </thead>\n",
       "  <tbody>\n",
       "    <tr>\n",
       "      <th>0</th>\n",
       "      <td>12346</td>\n",
       "      <td>77556.46</td>\n",
       "    </tr>\n",
       "    <tr>\n",
       "      <th>1</th>\n",
       "      <td>12347</td>\n",
       "      <td>3402.39</td>\n",
       "    </tr>\n",
       "    <tr>\n",
       "      <th>2</th>\n",
       "      <td>12348</td>\n",
       "      <td>1709.40</td>\n",
       "    </tr>\n",
       "    <tr>\n",
       "      <th>3</th>\n",
       "      <td>12349</td>\n",
       "      <td>2671.14</td>\n",
       "    </tr>\n",
       "    <tr>\n",
       "      <th>4</th>\n",
       "      <td>12350</td>\n",
       "      <td>334.40</td>\n",
       "    </tr>\n",
       "  </tbody>\n",
       "</table>\n",
       "</div>"
      ],
      "text/plain": [
       "   Customer ID  Monetary\n",
       "0        12346  77556.46\n",
       "1        12347   3402.39\n",
       "2        12348   1709.40\n",
       "3        12349   2671.14\n",
       "4        12350    334.40"
      ]
     },
     "execution_count": 112,
     "metadata": {},
     "output_type": "execute_result"
    }
   ],
   "source": [
    "# Monetary Value (M): Sum of TotalPrice for each customer in the observation period  \n",
    "# Group by 'Customer ID' and sum 'TotalPrice'\n",
    "customer_monetary = df_observation.groupby('Customer ID')['TotalPrice'].sum().reset_index()\n",
    "customer_monetary.rename(columns={'TotalPrice': 'Monetary'}, inplace=True)\n",
    "print(\"\\n--- Diagnostic: customer_monetary head ---\")\n",
    "customer_monetary.head()"
   ]
  },
  {
   "cell_type": "code",
   "execution_count": 113,
   "id": "c0d05f00",
   "metadata": {},
   "outputs": [
    {
     "name": "stdout",
     "output_type": "stream",
     "text": [
      "\n",
      "--- Diagnostic: customer_frequency details ---\n",
      "Shape: (5281, 2)\n",
      "Columns: ['Customer ID', 'Frequency']\n"
     ]
    },
    {
     "data": {
      "application/vnd.microsoft.datawrangler.viewer.v0+json": {
       "columns": [
        {
         "name": "index",
         "rawType": "int64",
         "type": "integer"
        },
        {
         "name": "Customer ID",
         "rawType": "int64",
         "type": "integer"
        },
        {
         "name": "Frequency",
         "rawType": "int64",
         "type": "integer"
        }
       ],
       "ref": "1b60d46b-2df9-472e-90eb-9e784d7701ef",
       "rows": [
        [
         "0",
         "12346",
         "12"
        ],
        [
         "1",
         "12347",
         "6"
        ],
        [
         "2",
         "12348",
         "4"
        ],
        [
         "3",
         "12349",
         "3"
        ],
        [
         "4",
         "12350",
         "1"
        ]
       ],
       "shape": {
        "columns": 2,
        "rows": 5
       }
      },
      "text/html": [
       "<div>\n",
       "<style scoped>\n",
       "    .dataframe tbody tr th:only-of-type {\n",
       "        vertical-align: middle;\n",
       "    }\n",
       "\n",
       "    .dataframe tbody tr th {\n",
       "        vertical-align: top;\n",
       "    }\n",
       "\n",
       "    .dataframe thead th {\n",
       "        text-align: right;\n",
       "    }\n",
       "</style>\n",
       "<table border=\"1\" class=\"dataframe\">\n",
       "  <thead>\n",
       "    <tr style=\"text-align: right;\">\n",
       "      <th></th>\n",
       "      <th>Customer ID</th>\n",
       "      <th>Frequency</th>\n",
       "    </tr>\n",
       "  </thead>\n",
       "  <tbody>\n",
       "    <tr>\n",
       "      <th>0</th>\n",
       "      <td>12346</td>\n",
       "      <td>12</td>\n",
       "    </tr>\n",
       "    <tr>\n",
       "      <th>1</th>\n",
       "      <td>12347</td>\n",
       "      <td>6</td>\n",
       "    </tr>\n",
       "    <tr>\n",
       "      <th>2</th>\n",
       "      <td>12348</td>\n",
       "      <td>4</td>\n",
       "    </tr>\n",
       "    <tr>\n",
       "      <th>3</th>\n",
       "      <td>12349</td>\n",
       "      <td>3</td>\n",
       "    </tr>\n",
       "    <tr>\n",
       "      <th>4</th>\n",
       "      <td>12350</td>\n",
       "      <td>1</td>\n",
       "    </tr>\n",
       "  </tbody>\n",
       "</table>\n",
       "</div>"
      ],
      "text/plain": [
       "   Customer ID  Frequency\n",
       "0        12346         12\n",
       "1        12347          6\n",
       "2        12348          4\n",
       "3        12349          3\n",
       "4        12350          1"
      ]
     },
     "execution_count": 113,
     "metadata": {},
     "output_type": "execute_result"
    }
   ],
   "source": [
    "# Frequency (F): Number of unique invoices for each customer in the observation period\n",
    "customer_frequency = df_observation.groupby('Customer ID')['Invoice'].nunique().reset_index()\n",
    "customer_frequency.rename(columns={'Invoice': 'Frequency'}, inplace=True)\n",
    "print(\"\\n--- Diagnostic: customer_frequency details ---\")\n",
    "print(f\"Shape: {customer_frequency.shape}\")\n",
    "print(f\"Columns: {customer_frequency.columns.tolist()}\")\n",
    "customer_frequency.head()"
   ]
  },
  {
   "cell_type": "code",
   "execution_count": 114,
   "id": "15aa54fe",
   "metadata": {},
   "outputs": [
    {
     "name": "stdout",
     "output_type": "stream",
     "text": [
      "\n",
      "--- Diagnostic: customer_last_purchase head ---\n"
     ]
    },
    {
     "data": {
      "application/vnd.microsoft.datawrangler.viewer.v0+json": {
       "columns": [
        {
         "name": "index",
         "rawType": "int64",
         "type": "integer"
        },
        {
         "name": "Customer ID",
         "rawType": "int64",
         "type": "integer"
        },
        {
         "name": "LastPurchaseDate",
         "rawType": "datetime64[ns]",
         "type": "datetime"
        },
        {
         "name": "Recency",
         "rawType": "int64",
         "type": "integer"
        }
       ],
       "ref": "ecca87c0-f214-414c-823d-17e76d065daa",
       "rows": [
        [
         "0",
         "12346",
         "2011-01-18 10:01:00",
         "235"
        ],
        [
         "1",
         "12347",
         "2011-08-02 08:48:00",
         "39"
        ],
        [
         "2",
         "12348",
         "2011-04-05 10:47:00",
         "158"
        ],
        [
         "3",
         "12349",
         "2010-10-28 08:23:00",
         "317"
        ],
        [
         "4",
         "12350",
         "2011-02-02 16:01:00",
         "219"
        ]
       ],
       "shape": {
        "columns": 3,
        "rows": 5
       }
      },
      "text/html": [
       "<div>\n",
       "<style scoped>\n",
       "    .dataframe tbody tr th:only-of-type {\n",
       "        vertical-align: middle;\n",
       "    }\n",
       "\n",
       "    .dataframe tbody tr th {\n",
       "        vertical-align: top;\n",
       "    }\n",
       "\n",
       "    .dataframe thead th {\n",
       "        text-align: right;\n",
       "    }\n",
       "</style>\n",
       "<table border=\"1\" class=\"dataframe\">\n",
       "  <thead>\n",
       "    <tr style=\"text-align: right;\">\n",
       "      <th></th>\n",
       "      <th>Customer ID</th>\n",
       "      <th>LastPurchaseDate</th>\n",
       "      <th>Recency</th>\n",
       "    </tr>\n",
       "  </thead>\n",
       "  <tbody>\n",
       "    <tr>\n",
       "      <th>0</th>\n",
       "      <td>12346</td>\n",
       "      <td>2011-01-18 10:01:00</td>\n",
       "      <td>235</td>\n",
       "    </tr>\n",
       "    <tr>\n",
       "      <th>1</th>\n",
       "      <td>12347</td>\n",
       "      <td>2011-08-02 08:48:00</td>\n",
       "      <td>39</td>\n",
       "    </tr>\n",
       "    <tr>\n",
       "      <th>2</th>\n",
       "      <td>12348</td>\n",
       "      <td>2011-04-05 10:47:00</td>\n",
       "      <td>158</td>\n",
       "    </tr>\n",
       "    <tr>\n",
       "      <th>3</th>\n",
       "      <td>12349</td>\n",
       "      <td>2010-10-28 08:23:00</td>\n",
       "      <td>317</td>\n",
       "    </tr>\n",
       "    <tr>\n",
       "      <th>4</th>\n",
       "      <td>12350</td>\n",
       "      <td>2011-02-02 16:01:00</td>\n",
       "      <td>219</td>\n",
       "    </tr>\n",
       "  </tbody>\n",
       "</table>\n",
       "</div>"
      ],
      "text/plain": [
       "   Customer ID    LastPurchaseDate  Recency\n",
       "0        12346 2011-01-18 10:01:00      235\n",
       "1        12347 2011-08-02 08:48:00       39\n",
       "2        12348 2011-04-05 10:47:00      158\n",
       "3        12349 2010-10-28 08:23:00      317\n",
       "4        12350 2011-02-02 16:01:00      219"
      ]
     },
     "execution_count": 114,
     "metadata": {},
     "output_type": "execute_result"
    }
   ],
   "source": [
    "# Recency (R): Days since last purchase relative to the observation_end_date\n",
    "# Find the last purchase date for each customer within the observation period\n",
    "customer_last_purchase = df_observation.groupby('Customer ID')['InvoiceDate'].max().reset_index()\n",
    "customer_last_purchase.rename(columns={'InvoiceDate': 'LastPurchaseDate'}, inplace=True)\n",
    "# Calculate Recency: difference in days between observation_end_date and LastPurchaseDate\n",
    "customer_last_purchase['Recency'] = (observation_end_date - customer_last_purchase['LastPurchaseDate']).dt.days\n",
    "print(\"\\n--- Diagnostic: customer_last_purchase head ---\")\n",
    "customer_last_purchase.head()"
   ]
  },
  {
   "cell_type": "code",
   "execution_count": 115,
   "id": "d14373dd",
   "metadata": {},
   "outputs": [],
   "source": [
    "# Merge RFM features into a single DataFrame\n",
    "customer_features = customer_monetary.merge(customer_frequency, on='Customer ID', how='inner')\n",
    "customer_features = customer_features.merge(customer_last_purchase[['Customer ID', 'Recency']], on='Customer ID')"
   ]
  },
  {
   "cell_type": "code",
   "execution_count": 116,
   "id": "1e9d32ee",
   "metadata": {},
   "outputs": [
    {
     "name": "stdout",
     "output_type": "stream",
     "text": [
      "\n",
      "--- RFM Features (first 5 rows) ---\n"
     ]
    },
    {
     "data": {
      "application/vnd.microsoft.datawrangler.viewer.v0+json": {
       "columns": [
        {
         "name": "index",
         "rawType": "int64",
         "type": "integer"
        },
        {
         "name": "Customer ID",
         "rawType": "int64",
         "type": "integer"
        },
        {
         "name": "Monetary",
         "rawType": "float64",
         "type": "float"
        },
        {
         "name": "Frequency",
         "rawType": "int64",
         "type": "integer"
        },
        {
         "name": "Recency",
         "rawType": "int64",
         "type": "integer"
        }
       ],
       "ref": "63560f29-0cb8-482c-8d21-1272191b0371",
       "rows": [
        [
         "0",
         "12346",
         "77556.46",
         "12",
         "235"
        ],
        [
         "1",
         "12347",
         "3402.39",
         "6",
         "39"
        ],
        [
         "2",
         "12348",
         "1709.3999999999999",
         "4",
         "158"
        ],
        [
         "3",
         "12349",
         "2671.14",
         "3",
         "317"
        ],
        [
         "4",
         "12350",
         "334.40000000000003",
         "1",
         "219"
        ]
       ],
       "shape": {
        "columns": 4,
        "rows": 5
       }
      },
      "text/html": [
       "<div>\n",
       "<style scoped>\n",
       "    .dataframe tbody tr th:only-of-type {\n",
       "        vertical-align: middle;\n",
       "    }\n",
       "\n",
       "    .dataframe tbody tr th {\n",
       "        vertical-align: top;\n",
       "    }\n",
       "\n",
       "    .dataframe thead th {\n",
       "        text-align: right;\n",
       "    }\n",
       "</style>\n",
       "<table border=\"1\" class=\"dataframe\">\n",
       "  <thead>\n",
       "    <tr style=\"text-align: right;\">\n",
       "      <th></th>\n",
       "      <th>Customer ID</th>\n",
       "      <th>Monetary</th>\n",
       "      <th>Frequency</th>\n",
       "      <th>Recency</th>\n",
       "    </tr>\n",
       "  </thead>\n",
       "  <tbody>\n",
       "    <tr>\n",
       "      <th>0</th>\n",
       "      <td>12346</td>\n",
       "      <td>77556.46</td>\n",
       "      <td>12</td>\n",
       "      <td>235</td>\n",
       "    </tr>\n",
       "    <tr>\n",
       "      <th>1</th>\n",
       "      <td>12347</td>\n",
       "      <td>3402.39</td>\n",
       "      <td>6</td>\n",
       "      <td>39</td>\n",
       "    </tr>\n",
       "    <tr>\n",
       "      <th>2</th>\n",
       "      <td>12348</td>\n",
       "      <td>1709.40</td>\n",
       "      <td>4</td>\n",
       "      <td>158</td>\n",
       "    </tr>\n",
       "    <tr>\n",
       "      <th>3</th>\n",
       "      <td>12349</td>\n",
       "      <td>2671.14</td>\n",
       "      <td>3</td>\n",
       "      <td>317</td>\n",
       "    </tr>\n",
       "    <tr>\n",
       "      <th>4</th>\n",
       "      <td>12350</td>\n",
       "      <td>334.40</td>\n",
       "      <td>1</td>\n",
       "      <td>219</td>\n",
       "    </tr>\n",
       "  </tbody>\n",
       "</table>\n",
       "</div>"
      ],
      "text/plain": [
       "   Customer ID  Monetary  Frequency  Recency\n",
       "0        12346  77556.46         12      235\n",
       "1        12347   3402.39          6       39\n",
       "2        12348   1709.40          4      158\n",
       "3        12349   2671.14          3      317\n",
       "4        12350    334.40          1      219"
      ]
     },
     "execution_count": 116,
     "metadata": {},
     "output_type": "execute_result"
    }
   ],
   "source": [
    "print(\"\\n--- RFM Features (first 5 rows) ---\")\n",
    "customer_features.head()"
   ]
  },
  {
   "cell_type": "code",
   "execution_count": 117,
   "id": "1d029cd7",
   "metadata": {},
   "outputs": [
    {
     "data": {
      "application/vnd.microsoft.datawrangler.viewer.v0+json": {
       "columns": [
        {
         "name": "index",
         "rawType": "object",
         "type": "string"
        },
        {
         "name": "Customer ID",
         "rawType": "float64",
         "type": "float"
        },
        {
         "name": "Monetary",
         "rawType": "float64",
         "type": "float"
        },
        {
         "name": "Frequency",
         "rawType": "float64",
         "type": "float"
        },
        {
         "name": "Recency",
         "rawType": "float64",
         "type": "float"
        }
       ],
       "ref": "2cadc2af-517d-4e27-bee5-e58a939fe44f",
       "rows": [
        [
         "count",
         "5281.0",
         "5281.0",
         "5281.0",
         "5281.0"
        ],
        [
         "mean",
         "15324.100170422269",
         "2637.863286498769",
         "5.745692103768226",
         "207.28290096572618"
        ],
        [
         "std",
         "1712.3238653066874",
         "12225.544955208552",
         "11.464582024780022",
         "175.00717374146907"
        ],
        [
         "min",
         "12346.0",
         "2.9",
         "1.0",
         "0.0"
        ],
        [
         "25%",
         "13850.0",
         "318.24",
         "1.0",
         "49.0"
        ],
        [
         "50%",
         "15313.0",
         "783.58",
         "3.0",
         "164.0"
        ],
        [
         "75%",
         "16807.0",
         "2078.54",
         "6.0",
         "326.0"
        ],
        [
         "max",
         "18287.0",
         "456780.49",
         "309.0",
         "648.0"
        ]
       ],
       "shape": {
        "columns": 4,
        "rows": 8
       }
      },
      "text/html": [
       "<div>\n",
       "<style scoped>\n",
       "    .dataframe tbody tr th:only-of-type {\n",
       "        vertical-align: middle;\n",
       "    }\n",
       "\n",
       "    .dataframe tbody tr th {\n",
       "        vertical-align: top;\n",
       "    }\n",
       "\n",
       "    .dataframe thead th {\n",
       "        text-align: right;\n",
       "    }\n",
       "</style>\n",
       "<table border=\"1\" class=\"dataframe\">\n",
       "  <thead>\n",
       "    <tr style=\"text-align: right;\">\n",
       "      <th></th>\n",
       "      <th>Customer ID</th>\n",
       "      <th>Monetary</th>\n",
       "      <th>Frequency</th>\n",
       "      <th>Recency</th>\n",
       "    </tr>\n",
       "  </thead>\n",
       "  <tbody>\n",
       "    <tr>\n",
       "      <th>count</th>\n",
       "      <td>5281.000000</td>\n",
       "      <td>5281.000000</td>\n",
       "      <td>5281.000000</td>\n",
       "      <td>5281.000000</td>\n",
       "    </tr>\n",
       "    <tr>\n",
       "      <th>mean</th>\n",
       "      <td>15324.100170</td>\n",
       "      <td>2637.863286</td>\n",
       "      <td>5.745692</td>\n",
       "      <td>207.282901</td>\n",
       "    </tr>\n",
       "    <tr>\n",
       "      <th>std</th>\n",
       "      <td>1712.323865</td>\n",
       "      <td>12225.544955</td>\n",
       "      <td>11.464582</td>\n",
       "      <td>175.007174</td>\n",
       "    </tr>\n",
       "    <tr>\n",
       "      <th>min</th>\n",
       "      <td>12346.000000</td>\n",
       "      <td>2.900000</td>\n",
       "      <td>1.000000</td>\n",
       "      <td>0.000000</td>\n",
       "    </tr>\n",
       "    <tr>\n",
       "      <th>25%</th>\n",
       "      <td>13850.000000</td>\n",
       "      <td>318.240000</td>\n",
       "      <td>1.000000</td>\n",
       "      <td>49.000000</td>\n",
       "    </tr>\n",
       "    <tr>\n",
       "      <th>50%</th>\n",
       "      <td>15313.000000</td>\n",
       "      <td>783.580000</td>\n",
       "      <td>3.000000</td>\n",
       "      <td>164.000000</td>\n",
       "    </tr>\n",
       "    <tr>\n",
       "      <th>75%</th>\n",
       "      <td>16807.000000</td>\n",
       "      <td>2078.540000</td>\n",
       "      <td>6.000000</td>\n",
       "      <td>326.000000</td>\n",
       "    </tr>\n",
       "    <tr>\n",
       "      <th>max</th>\n",
       "      <td>18287.000000</td>\n",
       "      <td>456780.490000</td>\n",
       "      <td>309.000000</td>\n",
       "      <td>648.000000</td>\n",
       "    </tr>\n",
       "  </tbody>\n",
       "</table>\n",
       "</div>"
      ],
      "text/plain": [
       "        Customer ID       Monetary    Frequency      Recency\n",
       "count   5281.000000    5281.000000  5281.000000  5281.000000\n",
       "mean   15324.100170    2637.863286     5.745692   207.282901\n",
       "std     1712.323865   12225.544955    11.464582   175.007174\n",
       "min    12346.000000       2.900000     1.000000     0.000000\n",
       "25%    13850.000000     318.240000     1.000000    49.000000\n",
       "50%    15313.000000     783.580000     3.000000   164.000000\n",
       "75%    16807.000000    2078.540000     6.000000   326.000000\n",
       "max    18287.000000  456780.490000   309.000000   648.000000"
      ]
     },
     "execution_count": 117,
     "metadata": {},
     "output_type": "execute_result"
    }
   ],
   "source": [
    "customer_features.describe()"
   ]
  },
  {
   "cell_type": "code",
   "execution_count": 118,
   "id": "a4133647",
   "metadata": {},
   "outputs": [
    {
     "name": "stdout",
     "output_type": "stream",
     "text": [
      "Shape after initial RFM merge: (5281, 4)\n"
     ]
    }
   ],
   "source": [
    "print(f\"Shape after initial RFM merge: {customer_features.shape}\")"
   ]
  },
  {
   "cell_type": "markdown",
   "id": "9f0f4d81",
   "metadata": {},
   "source": [
    "# --- 4. Feature Engineering: Customer Tenure ---"
   ]
  },
  {
   "cell_type": "code",
   "execution_count": 119,
   "id": "b4b671e2",
   "metadata": {},
   "outputs": [
    {
     "name": "stdout",
     "output_type": "stream",
     "text": [
      "\n",
      "--- Diagnostic: customer_first_purchase head ---\n"
     ]
    },
    {
     "data": {
      "application/vnd.microsoft.datawrangler.viewer.v0+json": {
       "columns": [
        {
         "name": "index",
         "rawType": "int64",
         "type": "integer"
        },
        {
         "name": "Customer ID",
         "rawType": "int64",
         "type": "integer"
        },
        {
         "name": "FirstPurchaseDate",
         "rawType": "datetime64[ns]",
         "type": "datetime"
        }
       ],
       "ref": "a2b00bb6-cc94-490a-bc55-6f48af23eb17",
       "rows": [
        [
         "0",
         "12346",
         "2009-12-14 08:34:00"
        ],
        [
         "1",
         "12347",
         "2010-10-31 14:20:00"
        ],
        [
         "2",
         "12348",
         "2010-09-27 14:59:00"
        ],
        [
         "3",
         "12349",
         "2010-04-29 13:20:00"
        ],
        [
         "4",
         "12350",
         "2011-02-02 16:01:00"
        ]
       ],
       "shape": {
        "columns": 2,
        "rows": 5
       }
      },
      "text/html": [
       "<div>\n",
       "<style scoped>\n",
       "    .dataframe tbody tr th:only-of-type {\n",
       "        vertical-align: middle;\n",
       "    }\n",
       "\n",
       "    .dataframe tbody tr th {\n",
       "        vertical-align: top;\n",
       "    }\n",
       "\n",
       "    .dataframe thead th {\n",
       "        text-align: right;\n",
       "    }\n",
       "</style>\n",
       "<table border=\"1\" class=\"dataframe\">\n",
       "  <thead>\n",
       "    <tr style=\"text-align: right;\">\n",
       "      <th></th>\n",
       "      <th>Customer ID</th>\n",
       "      <th>FirstPurchaseDate</th>\n",
       "    </tr>\n",
       "  </thead>\n",
       "  <tbody>\n",
       "    <tr>\n",
       "      <th>0</th>\n",
       "      <td>12346</td>\n",
       "      <td>2009-12-14 08:34:00</td>\n",
       "    </tr>\n",
       "    <tr>\n",
       "      <th>1</th>\n",
       "      <td>12347</td>\n",
       "      <td>2010-10-31 14:20:00</td>\n",
       "    </tr>\n",
       "    <tr>\n",
       "      <th>2</th>\n",
       "      <td>12348</td>\n",
       "      <td>2010-09-27 14:59:00</td>\n",
       "    </tr>\n",
       "    <tr>\n",
       "      <th>3</th>\n",
       "      <td>12349</td>\n",
       "      <td>2010-04-29 13:20:00</td>\n",
       "    </tr>\n",
       "    <tr>\n",
       "      <th>4</th>\n",
       "      <td>12350</td>\n",
       "      <td>2011-02-02 16:01:00</td>\n",
       "    </tr>\n",
       "  </tbody>\n",
       "</table>\n",
       "</div>"
      ],
      "text/plain": [
       "   Customer ID   FirstPurchaseDate\n",
       "0        12346 2009-12-14 08:34:00\n",
       "1        12347 2010-10-31 14:20:00\n",
       "2        12348 2010-09-27 14:59:00\n",
       "3        12349 2010-04-29 13:20:00\n",
       "4        12350 2011-02-02 16:01:00"
      ]
     },
     "execution_count": 119,
     "metadata": {},
     "output_type": "execute_result"
    }
   ],
   "source": [
    "# Tenure: Days since the customer's first purchase up to the observation_end_date.\n",
    "# We'll use the minimum InvoiceDate as the registration date for each customer.\n",
    "\n",
    "# Find the first purchase date for each customer in the *entire* cleaned dataset\n",
    "# (as this is their true \"registration\" date)\n",
    "customer_first_purchase = df_cleaned.groupby('Customer ID')['InvoiceDate'].min().reset_index()\n",
    "customer_first_purchase.rename(columns={'InvoiceDate': 'FirstPurchaseDate'}, inplace=True)\n",
    "print(\"\\n--- Diagnostic: customer_first_purchase head ---\")\n",
    "customer_first_purchase.head()"
   ]
  },
  {
   "cell_type": "code",
   "execution_count": 120,
   "id": "a599fbd8",
   "metadata": {},
   "outputs": [],
   "source": [
    "# Calculate Tenure relative to observation_end_date\n",
    "customer_first_purchase['Tenure'] = (observation_end_date - customer_first_purchase['FirstPurchaseDate']).dt.days"
   ]
  },
  {
   "cell_type": "code",
   "execution_count": 121,
   "id": "99b4db20",
   "metadata": {},
   "outputs": [
    {
     "name": "stdout",
     "output_type": "stream",
     "text": [
      "\n",
      "--- RFM and Tenure Features (first 5 rows) ---\n"
     ]
    },
    {
     "data": {
      "application/vnd.microsoft.datawrangler.viewer.v0+json": {
       "columns": [
        {
         "name": "index",
         "rawType": "int64",
         "type": "integer"
        },
        {
         "name": "Customer ID",
         "rawType": "int64",
         "type": "integer"
        },
        {
         "name": "Monetary",
         "rawType": "float64",
         "type": "float"
        },
        {
         "name": "Frequency",
         "rawType": "int64",
         "type": "integer"
        },
        {
         "name": "Recency",
         "rawType": "int64",
         "type": "integer"
        },
        {
         "name": "Tenure",
         "rawType": "int64",
         "type": "integer"
        }
       ],
       "ref": "7d0de042-7f06-402e-ac6a-00fb3ddf8a72",
       "rows": [
        [
         "0",
         "12346",
         "77556.46",
         "12",
         "235",
         "635"
        ],
        [
         "1",
         "12347",
         "3402.39",
         "6",
         "39",
         "313"
        ],
        [
         "2",
         "12348",
         "1709.3999999999999",
         "4",
         "158",
         "347"
        ],
        [
         "3",
         "12349",
         "2671.14",
         "3",
         "317",
         "498"
        ],
        [
         "4",
         "12350",
         "334.40000000000003",
         "1",
         "219",
         "219"
        ]
       ],
       "shape": {
        "columns": 5,
        "rows": 5
       }
      },
      "text/html": [
       "<div>\n",
       "<style scoped>\n",
       "    .dataframe tbody tr th:only-of-type {\n",
       "        vertical-align: middle;\n",
       "    }\n",
       "\n",
       "    .dataframe tbody tr th {\n",
       "        vertical-align: top;\n",
       "    }\n",
       "\n",
       "    .dataframe thead th {\n",
       "        text-align: right;\n",
       "    }\n",
       "</style>\n",
       "<table border=\"1\" class=\"dataframe\">\n",
       "  <thead>\n",
       "    <tr style=\"text-align: right;\">\n",
       "      <th></th>\n",
       "      <th>Customer ID</th>\n",
       "      <th>Monetary</th>\n",
       "      <th>Frequency</th>\n",
       "      <th>Recency</th>\n",
       "      <th>Tenure</th>\n",
       "    </tr>\n",
       "  </thead>\n",
       "  <tbody>\n",
       "    <tr>\n",
       "      <th>0</th>\n",
       "      <td>12346</td>\n",
       "      <td>77556.46</td>\n",
       "      <td>12</td>\n",
       "      <td>235</td>\n",
       "      <td>635</td>\n",
       "    </tr>\n",
       "    <tr>\n",
       "      <th>1</th>\n",
       "      <td>12347</td>\n",
       "      <td>3402.39</td>\n",
       "      <td>6</td>\n",
       "      <td>39</td>\n",
       "      <td>313</td>\n",
       "    </tr>\n",
       "    <tr>\n",
       "      <th>2</th>\n",
       "      <td>12348</td>\n",
       "      <td>1709.40</td>\n",
       "      <td>4</td>\n",
       "      <td>158</td>\n",
       "      <td>347</td>\n",
       "    </tr>\n",
       "    <tr>\n",
       "      <th>3</th>\n",
       "      <td>12349</td>\n",
       "      <td>2671.14</td>\n",
       "      <td>3</td>\n",
       "      <td>317</td>\n",
       "      <td>498</td>\n",
       "    </tr>\n",
       "    <tr>\n",
       "      <th>4</th>\n",
       "      <td>12350</td>\n",
       "      <td>334.40</td>\n",
       "      <td>1</td>\n",
       "      <td>219</td>\n",
       "      <td>219</td>\n",
       "    </tr>\n",
       "  </tbody>\n",
       "</table>\n",
       "</div>"
      ],
      "text/plain": [
       "   Customer ID  Monetary  Frequency  Recency  Tenure\n",
       "0        12346  77556.46         12      235     635\n",
       "1        12347   3402.39          6       39     313\n",
       "2        12348   1709.40          4      158     347\n",
       "3        12349   2671.14          3      317     498\n",
       "4        12350    334.40          1      219     219"
      ]
     },
     "execution_count": 121,
     "metadata": {},
     "output_type": "execute_result"
    }
   ],
   "source": [
    "# Merge Tenure into the customer_features DataFrame\n",
    "customer_features = customer_features.merge(customer_first_purchase[['Customer ID', 'Tenure']], on='Customer ID',how='inner')\n",
    "print(\"\\n--- RFM and Tenure Features (first 5 rows) ---\")\n",
    "customer_features.head()"
   ]
  },
  {
   "cell_type": "code",
   "execution_count": 122,
   "id": "831fe797",
   "metadata": {},
   "outputs": [
    {
     "data": {
      "application/vnd.microsoft.datawrangler.viewer.v0+json": {
       "columns": [
        {
         "name": "index",
         "rawType": "object",
         "type": "string"
        },
        {
         "name": "Customer ID",
         "rawType": "float64",
         "type": "float"
        },
        {
         "name": "Monetary",
         "rawType": "float64",
         "type": "float"
        },
        {
         "name": "Frequency",
         "rawType": "float64",
         "type": "float"
        },
        {
         "name": "Recency",
         "rawType": "float64",
         "type": "float"
        },
        {
         "name": "Tenure",
         "rawType": "float64",
         "type": "float"
        }
       ],
       "ref": "f7e309ef-e79d-4d09-b81f-cf885272976e",
       "rows": [
        [
         "count",
         "5281.0",
         "5281.0",
         "5281.0",
         "5281.0",
         "5281.0"
        ],
        [
         "mean",
         "15324.100170422269",
         "2637.863286498769",
         "5.745692103768226",
         "207.28290096572618",
         "431.77277030865366"
        ],
        [
         "std",
         "1712.3238653066874",
         "12225.544955208552",
         "11.464582024780022",
         "175.00717374146907",
         "180.5181522205752"
        ],
        [
         "min",
         "12346.0",
         "2.9",
         "1.0",
         "0.0",
         "0.0"
        ],
        [
         "25%",
         "13850.0",
         "318.24",
         "1.0",
         "49.0",
         "311.0"
        ],
        [
         "50%",
         "15313.0",
         "783.58",
         "3.0",
         "164.0",
         "474.0"
        ],
        [
         "75%",
         "16807.0",
         "2078.54",
         "6.0",
         "326.0",
         "587.0"
        ],
        [
         "max",
         "18287.0",
         "456780.49",
         "309.0",
         "648.0",
         "648.0"
        ]
       ],
       "shape": {
        "columns": 5,
        "rows": 8
       }
      },
      "text/html": [
       "<div>\n",
       "<style scoped>\n",
       "    .dataframe tbody tr th:only-of-type {\n",
       "        vertical-align: middle;\n",
       "    }\n",
       "\n",
       "    .dataframe tbody tr th {\n",
       "        vertical-align: top;\n",
       "    }\n",
       "\n",
       "    .dataframe thead th {\n",
       "        text-align: right;\n",
       "    }\n",
       "</style>\n",
       "<table border=\"1\" class=\"dataframe\">\n",
       "  <thead>\n",
       "    <tr style=\"text-align: right;\">\n",
       "      <th></th>\n",
       "      <th>Customer ID</th>\n",
       "      <th>Monetary</th>\n",
       "      <th>Frequency</th>\n",
       "      <th>Recency</th>\n",
       "      <th>Tenure</th>\n",
       "    </tr>\n",
       "  </thead>\n",
       "  <tbody>\n",
       "    <tr>\n",
       "      <th>count</th>\n",
       "      <td>5281.000000</td>\n",
       "      <td>5281.000000</td>\n",
       "      <td>5281.000000</td>\n",
       "      <td>5281.000000</td>\n",
       "      <td>5281.000000</td>\n",
       "    </tr>\n",
       "    <tr>\n",
       "      <th>mean</th>\n",
       "      <td>15324.100170</td>\n",
       "      <td>2637.863286</td>\n",
       "      <td>5.745692</td>\n",
       "      <td>207.282901</td>\n",
       "      <td>431.772770</td>\n",
       "    </tr>\n",
       "    <tr>\n",
       "      <th>std</th>\n",
       "      <td>1712.323865</td>\n",
       "      <td>12225.544955</td>\n",
       "      <td>11.464582</td>\n",
       "      <td>175.007174</td>\n",
       "      <td>180.518152</td>\n",
       "    </tr>\n",
       "    <tr>\n",
       "      <th>min</th>\n",
       "      <td>12346.000000</td>\n",
       "      <td>2.900000</td>\n",
       "      <td>1.000000</td>\n",
       "      <td>0.000000</td>\n",
       "      <td>0.000000</td>\n",
       "    </tr>\n",
       "    <tr>\n",
       "      <th>25%</th>\n",
       "      <td>13850.000000</td>\n",
       "      <td>318.240000</td>\n",
       "      <td>1.000000</td>\n",
       "      <td>49.000000</td>\n",
       "      <td>311.000000</td>\n",
       "    </tr>\n",
       "    <tr>\n",
       "      <th>50%</th>\n",
       "      <td>15313.000000</td>\n",
       "      <td>783.580000</td>\n",
       "      <td>3.000000</td>\n",
       "      <td>164.000000</td>\n",
       "      <td>474.000000</td>\n",
       "    </tr>\n",
       "    <tr>\n",
       "      <th>75%</th>\n",
       "      <td>16807.000000</td>\n",
       "      <td>2078.540000</td>\n",
       "      <td>6.000000</td>\n",
       "      <td>326.000000</td>\n",
       "      <td>587.000000</td>\n",
       "    </tr>\n",
       "    <tr>\n",
       "      <th>max</th>\n",
       "      <td>18287.000000</td>\n",
       "      <td>456780.490000</td>\n",
       "      <td>309.000000</td>\n",
       "      <td>648.000000</td>\n",
       "      <td>648.000000</td>\n",
       "    </tr>\n",
       "  </tbody>\n",
       "</table>\n",
       "</div>"
      ],
      "text/plain": [
       "        Customer ID       Monetary    Frequency      Recency       Tenure\n",
       "count   5281.000000    5281.000000  5281.000000  5281.000000  5281.000000\n",
       "mean   15324.100170    2637.863286     5.745692   207.282901   431.772770\n",
       "std     1712.323865   12225.544955    11.464582   175.007174   180.518152\n",
       "min    12346.000000       2.900000     1.000000     0.000000     0.000000\n",
       "25%    13850.000000     318.240000     1.000000    49.000000   311.000000\n",
       "50%    15313.000000     783.580000     3.000000   164.000000   474.000000\n",
       "75%    16807.000000    2078.540000     6.000000   326.000000   587.000000\n",
       "max    18287.000000  456780.490000   309.000000   648.000000   648.000000"
      ]
     },
     "execution_count": 122,
     "metadata": {},
     "output_type": "execute_result"
    }
   ],
   "source": [
    "customer_features.describe()"
   ]
  },
  {
   "cell_type": "code",
   "execution_count": 123,
   "id": "614efdfb",
   "metadata": {},
   "outputs": [
    {
     "name": "stdout",
     "output_type": "stream",
     "text": [
      "Shape after adding Tenure: (5281, 5)\n"
     ]
    }
   ],
   "source": [
    "print(f\"Shape after adding Tenure: {customer_features.shape}\")"
   ]
  },
  {
   "cell_type": "markdown",
   "id": "35e28dad",
   "metadata": {},
   "source": [
    "# --- 5. Create Churn Label (Target Variable) ---"
   ]
  },
  {
   "cell_type": "code",
   "execution_count": 124,
   "id": "b7d5287a",
   "metadata": {},
   "outputs": [],
   "source": [
    "# A customer is churned if they had activity *before* observation_end_date\n",
    "# but *no activity* in the churn window (from observation_end_date to analysis_end_date).\n",
    "\n",
    "# Get customers who made purchases in the churn window\n",
    "customers_in_churn_window = df_cleaned[\n",
    "    (df_cleaned['InvoiceDate'] > observation_end_date) &\n",
    "    (df_cleaned['InvoiceDate'] <= analysis_end_date)\n",
    "]['Customer ID'].unique()"
   ]
  },
  {
   "cell_type": "code",
   "execution_count": 125,
   "id": "b217f7fa",
   "metadata": {},
   "outputs": [],
   "source": [
    "# Create 'is_churned' column:\n",
    "# Initialize all customers (from observation period) as potentially churned (1)\n",
    "customer_features['is_churned'] = 1\n",
    "# Mark customers who purchased in the churn window as NOT churned (0)\n",
    "customer_features.loc[customer_features['Customer ID'].isin(customers_in_churn_window), 'is_churned'] = 0"
   ]
  },
  {
   "cell_type": "code",
   "execution_count": 126,
   "id": "a7b0404c",
   "metadata": {},
   "outputs": [
    {
     "name": "stdout",
     "output_type": "stream",
     "text": [
      "\n",
      "--- Churn Label Distribution ---\n"
     ]
    },
    {
     "data": {
      "application/vnd.microsoft.datawrangler.viewer.v0+json": {
       "columns": [
        {
         "name": "is_churned",
         "rawType": "int64",
         "type": "integer"
        },
        {
         "name": "count",
         "rawType": "int64",
         "type": "integer"
        }
       ],
       "ref": "bff5e699-3f77-40b7-acad-cd481a0f2308",
       "rows": [
        [
         "1",
         "2989"
        ],
        [
         "0",
         "2292"
        ]
       ],
       "shape": {
        "columns": 1,
        "rows": 2
       }
      },
      "text/plain": [
       "is_churned\n",
       "1    2989\n",
       "0    2292\n",
       "Name: count, dtype: int64"
      ]
     },
     "execution_count": 126,
     "metadata": {},
     "output_type": "execute_result"
    }
   ],
   "source": [
    "print(\"\\n--- Churn Label Distribution ---\")\n",
    "customer_features['is_churned'].value_counts()"
   ]
  },
  {
   "cell_type": "code",
   "execution_count": 127,
   "id": "e8a55e52",
   "metadata": {},
   "outputs": [
    {
     "name": "stdout",
     "output_type": "stream",
     "text": [
      "Churn rate: 56.60%\n"
     ]
    }
   ],
   "source": [
    "print(f\"Churn rate: {customer_features['is_churned'].mean() * 100:.2f}%\")"
   ]
  },
  {
   "cell_type": "markdown",
   "id": "d34dc98a",
   "metadata": {},
   "source": [
    "# --- 6. Add Other Customer-Level Features (e.g., Country) ---"
   ]
  },
  {
   "cell_type": "code",
   "execution_count": 128,
   "id": "8249cf15",
   "metadata": {},
   "outputs": [
    {
     "name": "stdout",
     "output_type": "stream",
     "text": [
      "\n",
      "--- Diagnostic: customer_country head ---\n"
     ]
    },
    {
     "data": {
      "application/vnd.microsoft.datawrangler.viewer.v0+json": {
       "columns": [
        {
         "name": "index",
         "rawType": "int64",
         "type": "integer"
        },
        {
         "name": "Customer ID",
         "rawType": "int64",
         "type": "integer"
        },
        {
         "name": "PrimaryCountry",
         "rawType": "object",
         "type": "string"
        }
       ],
       "ref": "ad6017fb-c71b-401d-bade-987e1965657e",
       "rows": [
        [
         "0",
         "12346",
         "United Kingdom"
        ],
        [
         "1",
         "12347",
         "Iceland"
        ],
        [
         "2",
         "12348",
         "Finland"
        ],
        [
         "3",
         "12349",
         "Italy"
        ],
        [
         "4",
         "12350",
         "Norway"
        ]
       ],
       "shape": {
        "columns": 2,
        "rows": 5
       }
      },
      "text/html": [
       "<div>\n",
       "<style scoped>\n",
       "    .dataframe tbody tr th:only-of-type {\n",
       "        vertical-align: middle;\n",
       "    }\n",
       "\n",
       "    .dataframe tbody tr th {\n",
       "        vertical-align: top;\n",
       "    }\n",
       "\n",
       "    .dataframe thead th {\n",
       "        text-align: right;\n",
       "    }\n",
       "</style>\n",
       "<table border=\"1\" class=\"dataframe\">\n",
       "  <thead>\n",
       "    <tr style=\"text-align: right;\">\n",
       "      <th></th>\n",
       "      <th>Customer ID</th>\n",
       "      <th>PrimaryCountry</th>\n",
       "    </tr>\n",
       "  </thead>\n",
       "  <tbody>\n",
       "    <tr>\n",
       "      <th>0</th>\n",
       "      <td>12346</td>\n",
       "      <td>United Kingdom</td>\n",
       "    </tr>\n",
       "    <tr>\n",
       "      <th>1</th>\n",
       "      <td>12347</td>\n",
       "      <td>Iceland</td>\n",
       "    </tr>\n",
       "    <tr>\n",
       "      <th>2</th>\n",
       "      <td>12348</td>\n",
       "      <td>Finland</td>\n",
       "    </tr>\n",
       "    <tr>\n",
       "      <th>3</th>\n",
       "      <td>12349</td>\n",
       "      <td>Italy</td>\n",
       "    </tr>\n",
       "    <tr>\n",
       "      <th>4</th>\n",
       "      <td>12350</td>\n",
       "      <td>Norway</td>\n",
       "    </tr>\n",
       "  </tbody>\n",
       "</table>\n",
       "</div>"
      ],
      "text/plain": [
       "   Customer ID  PrimaryCountry\n",
       "0        12346  United Kingdom\n",
       "1        12347         Iceland\n",
       "2        12348         Finland\n",
       "3        12349           Italy\n",
       "4        12350          Norway"
      ]
     },
     "execution_count": 128,
     "metadata": {},
     "output_type": "execute_result"
    }
   ],
   "source": [
    "# Get the most frequent country for each customer (assuming primary country of residence)\n",
    "customer_country = df_cleaned.groupby('Customer ID')['Country'].agg(lambda x: x.mode()[0]).reset_index()\n",
    "customer_country.rename(columns={'Country': 'PrimaryCountry'}, inplace=True)\n",
    "print(\"\\n--- Diagnostic: customer_country head ---\")\n",
    "customer_country.head()"
   ]
  },
  {
   "cell_type": "code",
   "execution_count": 129,
   "id": "4cc0e5a0",
   "metadata": {},
   "outputs": [],
   "source": [
    "customer_features = customer_features.merge(customer_country, on='Customer ID', how='left')"
   ]
  },
  {
   "cell_type": "code",
   "execution_count": 130,
   "id": "d05aa4b9",
   "metadata": {},
   "outputs": [
    {
     "name": "stdout",
     "output_type": "stream",
     "text": [
      "\n",
      "--- Customer Features with Primary Country (first 5 rows) ---\n"
     ]
    },
    {
     "data": {
      "application/vnd.microsoft.datawrangler.viewer.v0+json": {
       "columns": [
        {
         "name": "index",
         "rawType": "int64",
         "type": "integer"
        },
        {
         "name": "Customer ID",
         "rawType": "int64",
         "type": "integer"
        },
        {
         "name": "Monetary",
         "rawType": "float64",
         "type": "float"
        },
        {
         "name": "Frequency",
         "rawType": "int64",
         "type": "integer"
        },
        {
         "name": "Recency",
         "rawType": "int64",
         "type": "integer"
        },
        {
         "name": "Tenure",
         "rawType": "int64",
         "type": "integer"
        },
        {
         "name": "is_churned",
         "rawType": "int64",
         "type": "integer"
        },
        {
         "name": "PrimaryCountry",
         "rawType": "object",
         "type": "string"
        }
       ],
       "ref": "60e82b28-a503-4203-98a2-aa67aa07eb26",
       "rows": [
        [
         "0",
         "12346",
         "77556.46",
         "12",
         "235",
         "635",
         "1",
         "United Kingdom"
        ],
        [
         "1",
         "12347",
         "3402.39",
         "6",
         "39",
         "313",
         "0",
         "Iceland"
        ],
        [
         "2",
         "12348",
         "1709.3999999999999",
         "4",
         "158",
         "347",
         "0",
         "Finland"
        ],
        [
         "3",
         "12349",
         "2671.14",
         "3",
         "317",
         "498",
         "0",
         "Italy"
        ],
        [
         "4",
         "12350",
         "334.40000000000003",
         "1",
         "219",
         "219",
         "1",
         "Norway"
        ]
       ],
       "shape": {
        "columns": 7,
        "rows": 5
       }
      },
      "text/html": [
       "<div>\n",
       "<style scoped>\n",
       "    .dataframe tbody tr th:only-of-type {\n",
       "        vertical-align: middle;\n",
       "    }\n",
       "\n",
       "    .dataframe tbody tr th {\n",
       "        vertical-align: top;\n",
       "    }\n",
       "\n",
       "    .dataframe thead th {\n",
       "        text-align: right;\n",
       "    }\n",
       "</style>\n",
       "<table border=\"1\" class=\"dataframe\">\n",
       "  <thead>\n",
       "    <tr style=\"text-align: right;\">\n",
       "      <th></th>\n",
       "      <th>Customer ID</th>\n",
       "      <th>Monetary</th>\n",
       "      <th>Frequency</th>\n",
       "      <th>Recency</th>\n",
       "      <th>Tenure</th>\n",
       "      <th>is_churned</th>\n",
       "      <th>PrimaryCountry</th>\n",
       "    </tr>\n",
       "  </thead>\n",
       "  <tbody>\n",
       "    <tr>\n",
       "      <th>0</th>\n",
       "      <td>12346</td>\n",
       "      <td>77556.46</td>\n",
       "      <td>12</td>\n",
       "      <td>235</td>\n",
       "      <td>635</td>\n",
       "      <td>1</td>\n",
       "      <td>United Kingdom</td>\n",
       "    </tr>\n",
       "    <tr>\n",
       "      <th>1</th>\n",
       "      <td>12347</td>\n",
       "      <td>3402.39</td>\n",
       "      <td>6</td>\n",
       "      <td>39</td>\n",
       "      <td>313</td>\n",
       "      <td>0</td>\n",
       "      <td>Iceland</td>\n",
       "    </tr>\n",
       "    <tr>\n",
       "      <th>2</th>\n",
       "      <td>12348</td>\n",
       "      <td>1709.40</td>\n",
       "      <td>4</td>\n",
       "      <td>158</td>\n",
       "      <td>347</td>\n",
       "      <td>0</td>\n",
       "      <td>Finland</td>\n",
       "    </tr>\n",
       "    <tr>\n",
       "      <th>3</th>\n",
       "      <td>12349</td>\n",
       "      <td>2671.14</td>\n",
       "      <td>3</td>\n",
       "      <td>317</td>\n",
       "      <td>498</td>\n",
       "      <td>0</td>\n",
       "      <td>Italy</td>\n",
       "    </tr>\n",
       "    <tr>\n",
       "      <th>4</th>\n",
       "      <td>12350</td>\n",
       "      <td>334.40</td>\n",
       "      <td>1</td>\n",
       "      <td>219</td>\n",
       "      <td>219</td>\n",
       "      <td>1</td>\n",
       "      <td>Norway</td>\n",
       "    </tr>\n",
       "  </tbody>\n",
       "</table>\n",
       "</div>"
      ],
      "text/plain": [
       "   Customer ID  Monetary  Frequency  Recency  Tenure  is_churned  PrimaryCountry\n",
       "0        12346  77556.46         12      235     635           1  United Kingdom\n",
       "1        12347   3402.39          6       39     313           0         Iceland\n",
       "2        12348   1709.40          4      158     347           0         Finland\n",
       "3        12349   2671.14          3      317     498           0           Italy\n",
       "4        12350    334.40          1      219     219           1          Norway"
      ]
     },
     "execution_count": 130,
     "metadata": {},
     "output_type": "execute_result"
    }
   ],
   "source": [
    "print(\"\\n--- Customer Features with Primary Country (first 5 rows) ---\")\n",
    "customer_features.head()"
   ]
  },
  {
   "cell_type": "code",
   "execution_count": 131,
   "id": "8a90a115",
   "metadata": {},
   "outputs": [
    {
     "name": "stdout",
     "output_type": "stream",
     "text": [
      "\n",
      "--- Top 10 Primary Countries in Feature Set ---\n"
     ]
    },
    {
     "data": {
      "application/vnd.microsoft.datawrangler.viewer.v0+json": {
       "columns": [
        {
         "name": "PrimaryCountry",
         "rawType": "object",
         "type": "string"
        },
        {
         "name": "count",
         "rawType": "int64",
         "type": "integer"
        }
       ],
       "ref": "91c75e11-9583-4031-90df-5a524a96dfd0",
       "rows": [
        [
         "United Kingdom",
         "4814"
        ],
        [
         "Germany",
         "92"
        ],
        [
         "France",
         "78"
        ],
        [
         "Spain",
         "33"
        ],
        [
         "Belgium",
         "27"
        ],
        [
         "Netherlands",
         "22"
        ],
        [
         "Portugal",
         "20"
        ],
        [
         "Switzerland",
         "20"
        ],
        [
         "Sweden",
         "19"
        ],
        [
         "Australia",
         "14"
        ]
       ],
       "shape": {
        "columns": 1,
        "rows": 10
       }
      },
      "text/plain": [
       "PrimaryCountry\n",
       "United Kingdom    4814\n",
       "Germany             92\n",
       "France              78\n",
       "Spain               33\n",
       "Belgium             27\n",
       "Netherlands         22\n",
       "Portugal            20\n",
       "Switzerland         20\n",
       "Sweden              19\n",
       "Australia           14\n",
       "Name: count, dtype: int64"
      ]
     },
     "execution_count": 131,
     "metadata": {},
     "output_type": "execute_result"
    }
   ],
   "source": [
    "print(\"\\n--- Top 10 Primary Countries in Feature Set ---\")\n",
    "customer_features['PrimaryCountry'].value_counts().head(10)"
   ]
  },
  {
   "cell_type": "code",
   "execution_count": 132,
   "id": "af8eaa46",
   "metadata": {},
   "outputs": [
    {
     "name": "stdout",
     "output_type": "stream",
     "text": [
      "Shape after adding Primary Country: (5281, 7)\n"
     ]
    }
   ],
   "source": [
    "print(f\"Shape after adding Primary Country: {customer_features.shape}\")"
   ]
  },
  {
   "cell_type": "markdown",
   "id": "0274596a",
   "metadata": {},
   "source": [
    "# --- 7. Handle Categorical Features (One-Hot Encoding for 'PrimaryCountry') ---"
   ]
  },
  {
   "cell_type": "code",
   "execution_count": 133,
   "id": "99ee6fc8",
   "metadata": {},
   "outputs": [],
   "source": [
    "# One-hot encode 'PrimaryCountry'. Be mindful of potentially too many unique countries.\n",
    "# For simplicity, we can encode the top N countries and group others into 'Other'.\n",
    "\n",
    "num_top_countries = 10 # You can adjust this number\n",
    "top_countries = customer_features['PrimaryCountry'].value_counts().head(num_top_countries).index.tolist()\n",
    "\n",
    "# Replace countries not in top_countries with 'Other'\n",
    "customer_features['PrimaryCountry_Grouped'] = customer_features['PrimaryCountry'].apply(\n",
    "    lambda x: x if x in top_countries else 'Other'\n",
    ")\n",
    "\n",
    "# Perform one-hot encoding\n",
    "df_final_features = pd.get_dummies(customer_features, columns=['PrimaryCountry_Grouped'], prefix='Country', drop_first=True)\n",
    "# drop_first=True avoids multicollinearity for linear models.\n",
    "\n",
    "# Drop the original 'PrimaryCountry' column as it's now encoded\n",
    "df_final_features.drop('PrimaryCountry', axis=1, inplace=True)"
   ]
  },
  {
   "cell_type": "code",
   "execution_count": 134,
   "id": "e407cc8b",
   "metadata": {},
   "outputs": [
    {
     "name": "stdout",
     "output_type": "stream",
     "text": [
      "\n",
      "--- Final Feature Set (first 5 rows with one-hot encoded countries) ---\n"
     ]
    },
    {
     "data": {
      "application/vnd.microsoft.datawrangler.viewer.v0+json": {
       "columns": [
        {
         "name": "index",
         "rawType": "int64",
         "type": "integer"
        },
        {
         "name": "Customer ID",
         "rawType": "int64",
         "type": "integer"
        },
        {
         "name": "Monetary",
         "rawType": "float64",
         "type": "float"
        },
        {
         "name": "Frequency",
         "rawType": "int64",
         "type": "integer"
        },
        {
         "name": "Recency",
         "rawType": "int64",
         "type": "integer"
        },
        {
         "name": "Tenure",
         "rawType": "int64",
         "type": "integer"
        },
        {
         "name": "is_churned",
         "rawType": "int64",
         "type": "integer"
        },
        {
         "name": "Country_Belgium",
         "rawType": "bool",
         "type": "boolean"
        },
        {
         "name": "Country_France",
         "rawType": "bool",
         "type": "boolean"
        },
        {
         "name": "Country_Germany",
         "rawType": "bool",
         "type": "boolean"
        },
        {
         "name": "Country_Netherlands",
         "rawType": "bool",
         "type": "boolean"
        },
        {
         "name": "Country_Other",
         "rawType": "bool",
         "type": "boolean"
        },
        {
         "name": "Country_Portugal",
         "rawType": "bool",
         "type": "boolean"
        },
        {
         "name": "Country_Spain",
         "rawType": "bool",
         "type": "boolean"
        },
        {
         "name": "Country_Sweden",
         "rawType": "bool",
         "type": "boolean"
        },
        {
         "name": "Country_Switzerland",
         "rawType": "bool",
         "type": "boolean"
        },
        {
         "name": "Country_United Kingdom",
         "rawType": "bool",
         "type": "boolean"
        }
       ],
       "ref": "d00d6e6a-153d-4803-84fd-40851c9517ec",
       "rows": [
        [
         "0",
         "12346",
         "77556.46",
         "12",
         "235",
         "635",
         "1",
         "False",
         "False",
         "False",
         "False",
         "False",
         "False",
         "False",
         "False",
         "False",
         "True"
        ],
        [
         "1",
         "12347",
         "3402.39",
         "6",
         "39",
         "313",
         "0",
         "False",
         "False",
         "False",
         "False",
         "True",
         "False",
         "False",
         "False",
         "False",
         "False"
        ],
        [
         "2",
         "12348",
         "1709.3999999999999",
         "4",
         "158",
         "347",
         "0",
         "False",
         "False",
         "False",
         "False",
         "True",
         "False",
         "False",
         "False",
         "False",
         "False"
        ],
        [
         "3",
         "12349",
         "2671.14",
         "3",
         "317",
         "498",
         "0",
         "False",
         "False",
         "False",
         "False",
         "True",
         "False",
         "False",
         "False",
         "False",
         "False"
        ],
        [
         "4",
         "12350",
         "334.40000000000003",
         "1",
         "219",
         "219",
         "1",
         "False",
         "False",
         "False",
         "False",
         "True",
         "False",
         "False",
         "False",
         "False",
         "False"
        ]
       ],
       "shape": {
        "columns": 16,
        "rows": 5
       }
      },
      "text/html": [
       "<div>\n",
       "<style scoped>\n",
       "    .dataframe tbody tr th:only-of-type {\n",
       "        vertical-align: middle;\n",
       "    }\n",
       "\n",
       "    .dataframe tbody tr th {\n",
       "        vertical-align: top;\n",
       "    }\n",
       "\n",
       "    .dataframe thead th {\n",
       "        text-align: right;\n",
       "    }\n",
       "</style>\n",
       "<table border=\"1\" class=\"dataframe\">\n",
       "  <thead>\n",
       "    <tr style=\"text-align: right;\">\n",
       "      <th></th>\n",
       "      <th>Customer ID</th>\n",
       "      <th>Monetary</th>\n",
       "      <th>Frequency</th>\n",
       "      <th>Recency</th>\n",
       "      <th>Tenure</th>\n",
       "      <th>is_churned</th>\n",
       "      <th>Country_Belgium</th>\n",
       "      <th>Country_France</th>\n",
       "      <th>Country_Germany</th>\n",
       "      <th>Country_Netherlands</th>\n",
       "      <th>Country_Other</th>\n",
       "      <th>Country_Portugal</th>\n",
       "      <th>Country_Spain</th>\n",
       "      <th>Country_Sweden</th>\n",
       "      <th>Country_Switzerland</th>\n",
       "      <th>Country_United Kingdom</th>\n",
       "    </tr>\n",
       "  </thead>\n",
       "  <tbody>\n",
       "    <tr>\n",
       "      <th>0</th>\n",
       "      <td>12346</td>\n",
       "      <td>77556.46</td>\n",
       "      <td>12</td>\n",
       "      <td>235</td>\n",
       "      <td>635</td>\n",
       "      <td>1</td>\n",
       "      <td>False</td>\n",
       "      <td>False</td>\n",
       "      <td>False</td>\n",
       "      <td>False</td>\n",
       "      <td>False</td>\n",
       "      <td>False</td>\n",
       "      <td>False</td>\n",
       "      <td>False</td>\n",
       "      <td>False</td>\n",
       "      <td>True</td>\n",
       "    </tr>\n",
       "    <tr>\n",
       "      <th>1</th>\n",
       "      <td>12347</td>\n",
       "      <td>3402.39</td>\n",
       "      <td>6</td>\n",
       "      <td>39</td>\n",
       "      <td>313</td>\n",
       "      <td>0</td>\n",
       "      <td>False</td>\n",
       "      <td>False</td>\n",
       "      <td>False</td>\n",
       "      <td>False</td>\n",
       "      <td>True</td>\n",
       "      <td>False</td>\n",
       "      <td>False</td>\n",
       "      <td>False</td>\n",
       "      <td>False</td>\n",
       "      <td>False</td>\n",
       "    </tr>\n",
       "    <tr>\n",
       "      <th>2</th>\n",
       "      <td>12348</td>\n",
       "      <td>1709.40</td>\n",
       "      <td>4</td>\n",
       "      <td>158</td>\n",
       "      <td>347</td>\n",
       "      <td>0</td>\n",
       "      <td>False</td>\n",
       "      <td>False</td>\n",
       "      <td>False</td>\n",
       "      <td>False</td>\n",
       "      <td>True</td>\n",
       "      <td>False</td>\n",
       "      <td>False</td>\n",
       "      <td>False</td>\n",
       "      <td>False</td>\n",
       "      <td>False</td>\n",
       "    </tr>\n",
       "    <tr>\n",
       "      <th>3</th>\n",
       "      <td>12349</td>\n",
       "      <td>2671.14</td>\n",
       "      <td>3</td>\n",
       "      <td>317</td>\n",
       "      <td>498</td>\n",
       "      <td>0</td>\n",
       "      <td>False</td>\n",
       "      <td>False</td>\n",
       "      <td>False</td>\n",
       "      <td>False</td>\n",
       "      <td>True</td>\n",
       "      <td>False</td>\n",
       "      <td>False</td>\n",
       "      <td>False</td>\n",
       "      <td>False</td>\n",
       "      <td>False</td>\n",
       "    </tr>\n",
       "    <tr>\n",
       "      <th>4</th>\n",
       "      <td>12350</td>\n",
       "      <td>334.40</td>\n",
       "      <td>1</td>\n",
       "      <td>219</td>\n",
       "      <td>219</td>\n",
       "      <td>1</td>\n",
       "      <td>False</td>\n",
       "      <td>False</td>\n",
       "      <td>False</td>\n",
       "      <td>False</td>\n",
       "      <td>True</td>\n",
       "      <td>False</td>\n",
       "      <td>False</td>\n",
       "      <td>False</td>\n",
       "      <td>False</td>\n",
       "      <td>False</td>\n",
       "    </tr>\n",
       "  </tbody>\n",
       "</table>\n",
       "</div>"
      ],
      "text/plain": [
       "   Customer ID  Monetary  Frequency  Recency  Tenure  is_churned  Country_Belgium  Country_France  Country_Germany  Country_Netherlands  Country_Other  Country_Portugal  Country_Spain  Country_Sweden  Country_Switzerland  Country_United Kingdom\n",
       "0        12346  77556.46         12      235     635           1            False           False            False                False          False             False          False           False                False                    True\n",
       "1        12347   3402.39          6       39     313           0            False           False            False                False           True             False          False           False                False                   False\n",
       "2        12348   1709.40          4      158     347           0            False           False            False                False           True             False          False           False                False                   False\n",
       "3        12349   2671.14          3      317     498           0            False           False            False                False           True             False          False           False                False                   False\n",
       "4        12350    334.40          1      219     219           1            False           False            False                False           True             False          False           False                False                   False"
      ]
     },
     "execution_count": 134,
     "metadata": {},
     "output_type": "execute_result"
    }
   ],
   "source": [
    "print(\"\\n--- Final Feature Set (first 5 rows with one-hot encoded countries) ---\")\n",
    "df_final_features.head()"
   ]
  },
  {
   "cell_type": "code",
   "execution_count": 135,
   "id": "ee99fa16",
   "metadata": {},
   "outputs": [
    {
     "name": "stdout",
     "output_type": "stream",
     "text": [
      "Final feature set shape: (5281, 16)\n",
      "<class 'pandas.core.frame.DataFrame'>\n",
      "RangeIndex: 5281 entries, 0 to 5280\n",
      "Data columns (total 16 columns):\n",
      " #   Column                  Non-Null Count  Dtype  \n",
      "---  ------                  --------------  -----  \n",
      " 0   Customer ID             5281 non-null   int64  \n",
      " 1   Monetary                5281 non-null   float64\n",
      " 2   Frequency               5281 non-null   int64  \n",
      " 3   Recency                 5281 non-null   int64  \n",
      " 4   Tenure                  5281 non-null   int64  \n",
      " 5   is_churned              5281 non-null   int64  \n",
      " 6   Country_Belgium         5281 non-null   bool   \n",
      " 7   Country_France          5281 non-null   bool   \n",
      " 8   Country_Germany         5281 non-null   bool   \n",
      " 9   Country_Netherlands     5281 non-null   bool   \n",
      " 10  Country_Other           5281 non-null   bool   \n",
      " 11  Country_Portugal        5281 non-null   bool   \n",
      " 12  Country_Spain           5281 non-null   bool   \n",
      " 13  Country_Sweden          5281 non-null   bool   \n",
      " 14  Country_Switzerland     5281 non-null   bool   \n",
      " 15  Country_United Kingdom  5281 non-null   bool   \n",
      "dtypes: bool(10), float64(1), int64(5)\n",
      "memory usage: 299.2 KB\n"
     ]
    }
   ],
   "source": [
    "print(f\"Final feature set shape: {df_final_features.shape}\")\n",
    "df_final_features.info()"
   ]
  },
  {
   "cell_type": "code",
   "execution_count": 136,
   "id": "c57288c5",
   "metadata": {},
   "outputs": [
    {
     "name": "stdout",
     "output_type": "stream",
     "text": [
      "\n",
      "All core RFM, Tenure, and churn features are present in df_final_features before saving.\n"
     ]
    }
   ],
   "source": [
    "required_core_features = ['Recency', 'Frequency', 'Monetary', 'Tenure', 'is_churned']\n",
    "missing_before_save = [col for col in required_core_features if col not in df_final_features.columns]\n",
    "if missing_before_save:\n",
    "    print(f\"\\nCRITICAL ERROR: The following core features are missing from df_final_features before saving: {missing_before_save}\")\n",
    "else:\n",
    "    print(\"\\nAll core RFM, Tenure, and churn features are present in df_final_features before saving.\")\n"
   ]
  },
  {
   "cell_type": "markdown",
   "id": "cdffbb09",
   "metadata": {},
   "source": [
    "# --- 8. Save the Feature-Engineered Data ---"
   ]
  },
  {
   "cell_type": "code",
   "execution_count": 137,
   "id": "626cbd01",
   "metadata": {},
   "outputs": [
    {
     "name": "stdout",
     "output_type": "stream",
     "text": [
      "\n",
      "Feature-engineered data saved to ../data/processed/customer_churn_features.csv\n",
      "\n",
      "--- Feature Engineering Complete ---\n"
     ]
    }
   ],
   "source": [
    "# Save the final DataFrame to the 'data/processed/' directory.\n",
    "output_file_path = '../data/processed/customer_churn_features.csv'\n",
    "df_final_features.to_csv(output_file_path, index=False)\n",
    "print(f\"\\nFeature-engineered data saved to {output_file_path}\")\n",
    "\n",
    "print(\"\\n--- Feature Engineering Complete ---\")"
   ]
  }
 ],
 "metadata": {
  "kernelspec": {
   "display_name": ".venv",
   "language": "python",
   "name": "python3"
  },
  "language_info": {
   "codemirror_mode": {
    "name": "ipython",
    "version": 3
   },
   "file_extension": ".py",
   "mimetype": "text/x-python",
   "name": "python",
   "nbconvert_exporter": "python",
   "pygments_lexer": "ipython3",
   "version": "3.12.5"
  }
 },
 "nbformat": 4,
 "nbformat_minor": 5
}
