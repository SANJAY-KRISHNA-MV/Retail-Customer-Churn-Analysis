{
 "cells": [
  {
   "cell_type": "markdown",
   "id": "8ce7573b",
   "metadata": {},
   "source": [
    "# --- Phase 5: Visualization & Communication ---  \n",
    "\n",
    "This notebook serves as a guide for conceptualizing and building the interactive dashboard using Streamlit. It demonstrates how to load the trained model and feature-engineered data, and how to extract key insights for visualization. The actual Streamlit application code will reside in src/visualization_app.py."
   ]
  },
  {
   "cell_type": "code",
   "execution_count": 20,
   "id": "4adc83ae",
   "metadata": {},
   "outputs": [
    {
     "name": "stdout",
     "output_type": "stream",
     "text": [
      "Libraries imported successfully!\n"
     ]
    }
   ],
   "source": [
    "# Import necessary libraries\n",
    "import pandas as pd\n",
    "import numpy as np\n",
    "import matplotlib.pyplot as plt\n",
    "import seaborn as sns\n",
    "import joblib # To load the saved model\n",
    "\n",
    "# For Streamlit app, you'd import streamlit as st and plotly.express as px\n",
    "# import streamlit as st\n",
    "# import plotly.express as px\n",
    "\n",
    "# Set display options for better viewing\n",
    "pd.set_option('display.max_columns', None)\n",
    "pd.set_option('display.width', 1000)\n",
    "sns.set_style(\"whitegrid\")\n",
    "plt.rcParams['figure.figsize'] = (10, 6)\n",
    "\n",
    "print(\"Libraries imported successfully!\")"
   ]
  },
  {
   "cell_type": "markdown",
   "id": "cdb3a81b",
   "metadata": {},
   "source": [
    "# --- 1. Load Feature-Engineered Data and Trained Model ---"
   ]
  },
  {
   "cell_type": "code",
   "execution_count": 21,
   "id": "fff05214",
   "metadata": {},
   "outputs": [
    {
     "name": "stdout",
     "output_type": "stream",
     "text": [
      "\n",
      "Successfully loaded feature-engineered data from ../data/processed/customer_churn_features.csv\n",
      "Feature data shape: (5281, 16)\n"
     ]
    }
   ],
   "source": [
    "features_data_path = '../data/processed/customer_churn_features.csv'\n",
    "try:\n",
    "    df_features = pd.read_csv(features_data_path)\n",
    "    print(f\"\\nSuccessfully loaded feature-engineered data from {features_data_path}\")\n",
    "    print(f\"Feature data shape: {df_features.shape}\")\n",
    "except FileNotFoundError:\n",
    "    print(f\"Error: Feature-engineered data file not found at {features_data_path}. Please ensure 02_feature_engineering.ipynb was run successfully.\")\n",
    "    df_features = pd.DataFrame()\n",
    "except Exception as e:\n",
    "    print(f\"An error occurred while loading feature data: {e}\")\n",
    "    df_features = pd.DataFrame()"
   ]
  },
  {
   "cell_type": "code",
   "execution_count": 22,
   "id": "3e0f2aed",
   "metadata": {},
   "outputs": [
    {
     "name": "stdout",
     "output_type": "stream",
     "text": [
      "\n",
      "Successfully loaded trained model from ../models/best_churn_model.joblib\n",
      "Model type: <class 'sklearn.ensemble._gb.GradientBoostingClassifier'>\n"
     ]
    }
   ],
   "source": [
    "# Load the best trained model from 03_model_training_and_evaluation.ipynb\n",
    "model_path = '../models/best_churn_model.joblib'\n",
    "try:\n",
    "    model = joblib.load(model_path)\n",
    "    print(f\"\\nSuccessfully loaded trained model from {model_path}\")\n",
    "    print(f\"Model type: {type(model)}\")\n",
    "except FileNotFoundError:\n",
    "    print(f\"Error: Model file not found at {model_path}. Please ensure 03_model_training_and_evaluation.ipynb was run successfully and the model was saved.\")\n",
    "    model = None\n",
    "except Exception as e:\n",
    "    print(f\"An error occurred while loading the model: {e}\")\n",
    "    model = None"
   ]
  },
  {
   "cell_type": "markdown",
   "id": "f71bef88",
   "metadata": {},
   "source": [
    "# --- 2. Prepare Data for Prediction (similar to model training) ---"
   ]
  },
  {
   "cell_type": "code",
   "execution_count": 23,
   "id": "54c31118",
   "metadata": {},
   "outputs": [
    {
     "name": "stdout",
     "output_type": "stream",
     "text": [
      "\n",
      "--- Data with Churn Predictions (first 5 rows) ---\n"
     ]
    },
    {
     "data": {
      "application/vnd.microsoft.datawrangler.viewer.v0+json": {
       "columns": [
        {
         "name": "index",
         "rawType": "int64",
         "type": "integer"
        },
        {
         "name": "Customer ID",
         "rawType": "int64",
         "type": "integer"
        },
        {
         "name": "Monetary",
         "rawType": "float64",
         "type": "float"
        },
        {
         "name": "Frequency",
         "rawType": "int64",
         "type": "integer"
        },
        {
         "name": "Recency",
         "rawType": "int64",
         "type": "integer"
        },
        {
         "name": "Tenure",
         "rawType": "int64",
         "type": "integer"
        },
        {
         "name": "is_churned",
         "rawType": "int64",
         "type": "integer"
        },
        {
         "name": "Country_Belgium",
         "rawType": "bool",
         "type": "boolean"
        },
        {
         "name": "Country_France",
         "rawType": "bool",
         "type": "boolean"
        },
        {
         "name": "Country_Germany",
         "rawType": "bool",
         "type": "boolean"
        },
        {
         "name": "Country_Netherlands",
         "rawType": "bool",
         "type": "boolean"
        },
        {
         "name": "Country_Other",
         "rawType": "bool",
         "type": "boolean"
        },
        {
         "name": "Country_Portugal",
         "rawType": "bool",
         "type": "boolean"
        },
        {
         "name": "Country_Spain",
         "rawType": "bool",
         "type": "boolean"
        },
        {
         "name": "Country_Sweden",
         "rawType": "bool",
         "type": "boolean"
        },
        {
         "name": "Country_Switzerland",
         "rawType": "bool",
         "type": "boolean"
        },
        {
         "name": "Country_United Kingdom",
         "rawType": "bool",
         "type": "boolean"
        },
        {
         "name": "churn_probability",
         "rawType": "float64",
         "type": "float"
        },
        {
         "name": "predicted_churn",
         "rawType": "int64",
         "type": "integer"
        }
       ],
       "ref": "216ec8ac-938c-4637-b142-3064b780046c",
       "rows": [
        [
         "0",
         "12346",
         "77556.46",
         "12",
         "235",
         "635",
         "1",
         "False",
         "False",
         "False",
         "False",
         "False",
         "False",
         "False",
         "False",
         "False",
         "True",
         "0.4465996777775208",
         "0"
        ],
        [
         "1",
         "12347",
         "3402.39",
         "6",
         "39",
         "313",
         "0",
         "False",
         "False",
         "False",
         "False",
         "True",
         "False",
         "False",
         "False",
         "False",
         "False",
         "0.21887285635188095",
         "0"
        ],
        [
         "2",
         "12348",
         "1709.4",
         "4",
         "158",
         "347",
         "0",
         "False",
         "False",
         "False",
         "False",
         "True",
         "False",
         "False",
         "False",
         "False",
         "False",
         "0.509042889388534",
         "1"
        ],
        [
         "3",
         "12349",
         "2671.14",
         "3",
         "317",
         "498",
         "0",
         "False",
         "False",
         "False",
         "False",
         "True",
         "False",
         "False",
         "False",
         "False",
         "False",
         "0.7093856971929537",
         "1"
        ],
        [
         "4",
         "12350",
         "334.40000000000003",
         "1",
         "219",
         "219",
         "1",
         "False",
         "False",
         "False",
         "False",
         "True",
         "False",
         "False",
         "False",
         "False",
         "False",
         "0.8287145249828776",
         "1"
        ]
       ],
       "shape": {
        "columns": 18,
        "rows": 5
       }
      },
      "text/html": [
       "<div>\n",
       "<style scoped>\n",
       "    .dataframe tbody tr th:only-of-type {\n",
       "        vertical-align: middle;\n",
       "    }\n",
       "\n",
       "    .dataframe tbody tr th {\n",
       "        vertical-align: top;\n",
       "    }\n",
       "\n",
       "    .dataframe thead th {\n",
       "        text-align: right;\n",
       "    }\n",
       "</style>\n",
       "<table border=\"1\" class=\"dataframe\">\n",
       "  <thead>\n",
       "    <tr style=\"text-align: right;\">\n",
       "      <th></th>\n",
       "      <th>Customer ID</th>\n",
       "      <th>Monetary</th>\n",
       "      <th>Frequency</th>\n",
       "      <th>Recency</th>\n",
       "      <th>Tenure</th>\n",
       "      <th>is_churned</th>\n",
       "      <th>Country_Belgium</th>\n",
       "      <th>Country_France</th>\n",
       "      <th>Country_Germany</th>\n",
       "      <th>Country_Netherlands</th>\n",
       "      <th>Country_Other</th>\n",
       "      <th>Country_Portugal</th>\n",
       "      <th>Country_Spain</th>\n",
       "      <th>Country_Sweden</th>\n",
       "      <th>Country_Switzerland</th>\n",
       "      <th>Country_United Kingdom</th>\n",
       "      <th>churn_probability</th>\n",
       "      <th>predicted_churn</th>\n",
       "    </tr>\n",
       "  </thead>\n",
       "  <tbody>\n",
       "    <tr>\n",
       "      <th>0</th>\n",
       "      <td>12346</td>\n",
       "      <td>77556.46</td>\n",
       "      <td>12</td>\n",
       "      <td>235</td>\n",
       "      <td>635</td>\n",
       "      <td>1</td>\n",
       "      <td>False</td>\n",
       "      <td>False</td>\n",
       "      <td>False</td>\n",
       "      <td>False</td>\n",
       "      <td>False</td>\n",
       "      <td>False</td>\n",
       "      <td>False</td>\n",
       "      <td>False</td>\n",
       "      <td>False</td>\n",
       "      <td>True</td>\n",
       "      <td>0.446600</td>\n",
       "      <td>0</td>\n",
       "    </tr>\n",
       "    <tr>\n",
       "      <th>1</th>\n",
       "      <td>12347</td>\n",
       "      <td>3402.39</td>\n",
       "      <td>6</td>\n",
       "      <td>39</td>\n",
       "      <td>313</td>\n",
       "      <td>0</td>\n",
       "      <td>False</td>\n",
       "      <td>False</td>\n",
       "      <td>False</td>\n",
       "      <td>False</td>\n",
       "      <td>True</td>\n",
       "      <td>False</td>\n",
       "      <td>False</td>\n",
       "      <td>False</td>\n",
       "      <td>False</td>\n",
       "      <td>False</td>\n",
       "      <td>0.218873</td>\n",
       "      <td>0</td>\n",
       "    </tr>\n",
       "    <tr>\n",
       "      <th>2</th>\n",
       "      <td>12348</td>\n",
       "      <td>1709.40</td>\n",
       "      <td>4</td>\n",
       "      <td>158</td>\n",
       "      <td>347</td>\n",
       "      <td>0</td>\n",
       "      <td>False</td>\n",
       "      <td>False</td>\n",
       "      <td>False</td>\n",
       "      <td>False</td>\n",
       "      <td>True</td>\n",
       "      <td>False</td>\n",
       "      <td>False</td>\n",
       "      <td>False</td>\n",
       "      <td>False</td>\n",
       "      <td>False</td>\n",
       "      <td>0.509043</td>\n",
       "      <td>1</td>\n",
       "    </tr>\n",
       "    <tr>\n",
       "      <th>3</th>\n",
       "      <td>12349</td>\n",
       "      <td>2671.14</td>\n",
       "      <td>3</td>\n",
       "      <td>317</td>\n",
       "      <td>498</td>\n",
       "      <td>0</td>\n",
       "      <td>False</td>\n",
       "      <td>False</td>\n",
       "      <td>False</td>\n",
       "      <td>False</td>\n",
       "      <td>True</td>\n",
       "      <td>False</td>\n",
       "      <td>False</td>\n",
       "      <td>False</td>\n",
       "      <td>False</td>\n",
       "      <td>False</td>\n",
       "      <td>0.709386</td>\n",
       "      <td>1</td>\n",
       "    </tr>\n",
       "    <tr>\n",
       "      <th>4</th>\n",
       "      <td>12350</td>\n",
       "      <td>334.40</td>\n",
       "      <td>1</td>\n",
       "      <td>219</td>\n",
       "      <td>219</td>\n",
       "      <td>1</td>\n",
       "      <td>False</td>\n",
       "      <td>False</td>\n",
       "      <td>False</td>\n",
       "      <td>False</td>\n",
       "      <td>True</td>\n",
       "      <td>False</td>\n",
       "      <td>False</td>\n",
       "      <td>False</td>\n",
       "      <td>False</td>\n",
       "      <td>False</td>\n",
       "      <td>0.828715</td>\n",
       "      <td>1</td>\n",
       "    </tr>\n",
       "  </tbody>\n",
       "</table>\n",
       "</div>"
      ],
      "text/plain": [
       "   Customer ID  Monetary  Frequency  Recency  Tenure  is_churned  Country_Belgium  Country_France  Country_Germany  Country_Netherlands  Country_Other  Country_Portugal  Country_Spain  Country_Sweden  Country_Switzerland  Country_United Kingdom  churn_probability  predicted_churn\n",
       "0        12346  77556.46         12      235     635           1            False           False            False                False          False             False          False           False                False                    True           0.446600                0\n",
       "1        12347   3402.39          6       39     313           0            False           False            False                False           True             False          False           False                False                   False           0.218873                0\n",
       "2        12348   1709.40          4      158     347           0            False           False            False                False           True             False          False           False                False                   False           0.509043                1\n",
       "3        12349   2671.14          3      317     498           0            False           False            False                False           True             False          False           False                False                   False           0.709386                1\n",
       "4        12350    334.40          1      219     219           1            False           False            False                False           True             False          False           False                False                   False           0.828715                1"
      ]
     },
     "execution_count": 23,
     "metadata": {},
     "output_type": "execute_result"
    }
   ],
   "source": [
    "# Drop Customer ID and target variable from features for prediction\n",
    "# Ensure columns match the training data used for the model\n",
    "X_predict = df_features.drop(['Customer ID', 'is_churned'], axis=1)\n",
    "\n",
    "# Make predictions (probabilities are useful for risk scores)\n",
    "df_features['churn_probability'] = model.predict_proba(X_predict)[:, 1]\n",
    "df_features['predicted_churn'] = model.predict(X_predict)\n",
    "\n",
    "print(\"\\n--- Data with Churn Predictions (first 5 rows) ---\")\n",
    "df_features.head()"
   ]
  },
  {
   "cell_type": "markdown",
   "id": "1a6136ef",
   "metadata": {},
   "source": [
    "# --- 3. Extracting Key Insights for Dashboard ---"
   ]
  },
  {
   "cell_type": "code",
   "execution_count": 24,
   "id": "a6bec6e9",
   "metadata": {},
   "outputs": [
    {
     "name": "stdout",
     "output_type": "stream",
     "text": [
      "\n",
      "Overall Actual Churn Rate: 56.60%\n",
      "Overall Predicted Churn Rate: 61.88%\n"
     ]
    }
   ],
   "source": [
    "overall_churn_rate = df_features['is_churned'].mean() * 100\n",
    "predicted_churn_rate = df_features['predicted_churn'].mean() * 100\n",
    "print(f\"\\nOverall Actual Churn Rate: {overall_churn_rate:.2f}%\")\n",
    "print(f\"Overall Predicted Churn Rate: {predicted_churn_rate:.2f}%\")"
   ]
  },
  {
   "cell_type": "code",
   "execution_count": 25,
   "id": "d8ee999c",
   "metadata": {},
   "outputs": [],
   "source": [
    "# Reconstruct the original grouped country column for better visualization\n",
    "# We will need to re-create this based on the one-hot encoded columns\n",
    "# Find all 'Country_' columns except 'Country_Other' if it exists and pick the most probable one\n",
    "country_cols = [col for col in df_features.columns if col.startswith('Country_') and col != 'Country_Other']\n",
    "if 'Country_Other' in df_features.columns:\n",
    "    # If 'Country_Other' is 1, it's 'Other', otherwise find the specific country\n",
    "    def get_original_country(row):\n",
    "        if row.get('Country_Other', 0) == 1:\n",
    "            return 'Other'\n",
    "        for col in country_cols:\n",
    "            if row[col] == 1:\n",
    "                return col.replace('Country_', '')\n",
    "        return 'Unknown'\n",
    "    df_features['PrimaryCountry_Grouped_Original'] = df_features.apply(get_original_country, axis=1)\n",
    "else: # If 'Country_Other' doesn't exist, assume all are specific countries\n",
    "    def get_original_country_no_other(row):\n",
    "        for col in country_cols:\n",
    "            if row[col] == 1:\n",
    "                return col.replace('Country_', '')\n",
    "        return 'Unknown' # Fallback\n",
    "    df_features['PrimaryCountry_Grouped_Original'] = df_features.apply(get_original_country_no_other, axis=1)"
   ]
  },
  {
   "cell_type": "code",
   "execution_count": 26,
   "id": "becd3d1e",
   "metadata": {},
   "outputs": [
    {
     "name": "stdout",
     "output_type": "stream",
     "text": [
      "\n",
      "--- Churn Rate by Country Group ---\n"
     ]
    },
    {
     "data": {
      "application/vnd.microsoft.datawrangler.viewer.v0+json": {
       "columns": [
        {
         "name": "PrimaryCountry_Grouped_Original",
         "rawType": "object",
         "type": "string"
        },
        {
         "name": "is_churned",
         "rawType": "float64",
         "type": "float"
        }
       ],
       "ref": "28fb6fe9-389a-4027-9317-e429d1d09194",
       "rows": [
        [
         "Sweden",
         "73.68421052631578"
        ],
        [
         "Netherlands",
         "72.72727272727273"
        ],
        [
         "Other",
         "64.7887323943662"
        ],
        [
         "Portugal",
         "60.0"
        ],
        [
         "Unknown",
         "57.14285714285714"
        ],
        [
         "United Kingdom",
         "56.85500623182384"
        ],
        [
         "Spain",
         "54.54545454545454"
        ],
        [
         "Switzerland",
         "50.0"
        ],
        [
         "France",
         "43.58974358974359"
        ],
        [
         "Belgium",
         "40.74074074074074"
        ],
        [
         "Germany",
         "40.21739130434783"
        ]
       ],
       "shape": {
        "columns": 1,
        "rows": 11
       }
      },
      "text/plain": [
       "PrimaryCountry_Grouped_Original\n",
       "Sweden            73.684211\n",
       "Netherlands       72.727273\n",
       "Other             64.788732\n",
       "Portugal          60.000000\n",
       "Unknown           57.142857\n",
       "United Kingdom    56.855006\n",
       "Spain             54.545455\n",
       "Switzerland       50.000000\n",
       "France            43.589744\n",
       "Belgium           40.740741\n",
       "Germany           40.217391\n",
       "Name: is_churned, dtype: float64"
      ]
     },
     "execution_count": 26,
     "metadata": {},
     "output_type": "execute_result"
    }
   ],
   "source": [
    "churn_by_country = df_features.groupby('PrimaryCountry_Grouped_Original')['is_churned'].mean().sort_values(ascending=False) * 100\n",
    "print(\"\\n--- Churn Rate by Country Group ---\")\n",
    "churn_by_country"
   ]
  },
  {
   "cell_type": "code",
   "execution_count": 27,
   "id": "6b49894a",
   "metadata": {},
   "outputs": [
    {
     "data": {
      "image/png": "[encoded data removed]",
      "text/plain": [
       "<Figure size 1200x700 with 1 Axes>"
      ]
     },
     "metadata": {},
     "output_type": "display_data"
    }
   ],
   "source": [
    "plt.figure(figsize=(12, 7))\n",
    "sns.barplot(x=churn_by_country.index, y=churn_by_country.values, palette='coolwarm',hue=churn_by_country.index, legend=False) # Fix for FutureWarning\n",
    "plt.title('Churn Rate by Country Group')\n",
    "plt.xlabel('Country Group')\n",
    "plt.ylabel('Churn Rate (%)')\n",
    "plt.xticks(rotation=45, ha='right')\n",
    "plt.tight_layout()\n",
    "plt.show()"
   ]
  },
  {
   "cell_type": "code",
   "execution_count": 28,
   "id": "a44890a9",
   "metadata": {},
   "outputs": [
    {
     "name": "stdout",
     "output_type": "stream",
     "text": [
      "\n",
      "--- Feature Importance from the Tuned Model ---\n",
      "                   Feature  Importance\n",
      "2                  Recency    0.553570\n",
      "1                Frequency    0.189671\n",
      "0                 Monetary    0.175155\n",
      "3                   Tenure    0.071545\n",
      "8            Country_Other    0.002780\n",
      "12     Country_Switzerland    0.001727\n",
      "10           Country_Spain    0.001724\n",
      "13  Country_United Kingdom    0.001191\n",
      "6          Country_Germany    0.000879\n",
      "9         Country_Portugal    0.000744\n"
     ]
    },
    {
     "data": {
      "image/png": "[encoded data removed]",
      "text/plain": [
       "<Figure size 1200x800 with 1 Axes>"
      ]
     },
     "metadata": {},
     "output_type": "display_data"
    }
   ],
   "source": [
    "print(\"\\n--- Feature Importance from the Tuned Model ---\")\n",
    "if hasattr(model, 'feature_importances_'):\n",
    "    importances = model.feature_importances_\n",
    "    feature_names = X_predict.columns\n",
    "    feature_importance_df = pd.DataFrame({'Feature': feature_names, 'Importance': importances})\n",
    "    feature_importance_df = feature_importance_df.sort_values(by='Importance', ascending=False)\n",
    "    print(feature_importance_df.head(10))\n",
    "\n",
    "    plt.figure(figsize=(12, 8))\n",
    "    sns.barplot(x='Importance', y='Feature', data=feature_importance_df.head(15), palette='viridis',\n",
    "                hue='Feature', legend=False) # Fix for FutureWarning\n",
    "    plt.title('Top 15 Feature Importances for Churn Prediction')\n",
    "    plt.xlabel('Importance')\n",
    "    plt.ylabel('Feature')\n",
    "    plt.tight_layout()\n",
    "    plt.show()\n",
    "else:\n",
    "    print(\"Feature importances not available for this model type (e.g., Logistic Regression coefficients are interpreted differently).\")\n"
   ]
  },
  {
   "cell_type": "code",
   "execution_count": 29,
   "id": "6fdd6eba",
   "metadata": {},
   "outputs": [],
   "source": [
    "# Define a threshold for \"high risk\" (e.g., churn probability > 0.5 or a value that yields a manageable list)\n",
    "churn_threshold = 0.5 # This can be adjusted based on business needs (e.g., if you want to be more aggressive)\n",
    "at_risk_customers = df_features[df_features['churn_probability'] >= churn_threshold].sort_values(by='churn_probability', ascending=False)"
   ]
  },
  {
   "cell_type": "code",
   "execution_count": 30,
   "id": "bc5b33c7",
   "metadata": {},
   "outputs": [
    {
     "name": "stdout",
     "output_type": "stream",
     "text": [
      "\n",
      "--- Top 10 At-Risk Customers (based on probability >= 0.5) ---\n",
      "      Customer ID  Recency  Frequency  Monetary  Tenure PrimaryCountry_Grouped_Original  churn_probability  predicted_churn\n",
      "3027        15760      540          2  13916.34     540                           Other           0.947319                1\n",
      "54          12404      591          1     63.24     591                           Other           0.943052                1\n",
      "3283        16047      591          1    107.14     591                           Other           0.940623                1\n",
      "499         12918      535          1  10953.50     535                  United Kingdom           0.933651                1\n",
      "3349        16118      562          1   4376.25     562                  United Kingdom           0.933062                1\n",
      "251         12636      648          1    141.00     648                           Other           0.932866                1\n",
      "114         12470      599          1    211.95     599                           Other           0.931609                1\n",
      "3974        16822      595          1    181.39     595                  United Kingdom           0.929646                1\n",
      "2338        14983      598          1    183.20     598                  United Kingdom           0.929646                1\n",
      "2246        14879      594          1    185.06     594                  United Kingdom           0.929646                1\n",
      "\n",
      "Total at-risk customers identified: 3268\n"
     ]
    }
   ],
   "source": [
    "print(f\"\\n--- Top 10 At-Risk Customers (based on probability >= {churn_threshold}) ---\")\n",
    "# Display relevant columns for identifying at-risk customers\n",
    "# We'll include the original Customer ID for identification\n",
    "print(at_risk_customers[['Customer ID', 'Recency', 'Frequency', 'Monetary', 'Tenure', 'PrimaryCountry_Grouped_Original', 'churn_probability', 'predicted_churn']].head(10))\n",
    "\n",
    "print(f\"\\nTotal at-risk customers identified: {len(at_risk_customers)}\")"
   ]
  },
  {
   "cell_type": "markdown",
   "id": "87f2997b",
   "metadata": {},
   "source": [
    "# --- 4. Prepare for Streamlit App Development (src/visualization_app.py) ---"
   ]
  },
  {
   "cell_type": "code",
   "execution_count": 33,
   "id": "412ca3b6",
   "metadata": {},
   "outputs": [
    {
     "name": "stdout",
     "output_type": "stream",
     "text": [
      "\n",
      "--- Preparing for Streamlit Application ---\n",
      "The insights gathered above will be integrated into an interactive Streamlit dashboard.\n",
      "This dashboard will allow users to:\n",
      " - View overall churn rates and predicted churn rates.\n",
      " - Explore churn rates by different segments (e.g., country).\n",
      " - Understand the main drivers of churn.\n",
      " - See a list of high-risk customers for targeted interventions.\n",
      "The code for the Streamlit app will be placed in `src/visualization_app.py`.\n",
      "\n",
      "DataFrame with churn predictions saved to: ../data/processed/customer_churn_predictions.csv\n"
     ]
    }
   ],
   "source": [
    "print(\"\\n--- Preparing for Streamlit Application ---\")\n",
    "print(\"The insights gathered above will be integrated into an interactive Streamlit dashboard.\")\n",
    "print(\"This dashboard will allow users to:\")\n",
    "print(\" - View overall churn rates and predicted churn rates.\")\n",
    "print(\" - Explore churn rates by different segments (e.g., country).\")\n",
    "print(\" - Understand the main drivers of churn.\")\n",
    "print(\" - See a list of high-risk customers for targeted interventions.\")\n",
    "print(\"The code for the Streamlit app will be placed in `src/visualization_app.py`.\")\n",
    "\n",
    "# Save the dataframe with predictions for the Streamlit app to load easily\n",
    "df_features.to_csv('../data/processed/customer_churn_predictions.csv', index=False)\n",
    "print(\"\\nDataFrame with churn predictions saved to: ../data/processed/customer_churn_predictions.csv\")\n",
    "\n",
    "# --- End of Notebook 04 ---\n"
   ]
  },
  {
   "cell_type": "code",
   "execution_count": null,
   "id": "b093769d",
   "metadata": {},
   "outputs": [],
   "source": []
  }
 ],
 "metadata": {
  "kernelspec": {
   "display_name": ".venv",
   "language": "python",
   "name": "python3"
  },
  "language_info": {
   "codemirror_mode": {
    "name": "ipython",
    "version": 3
   },
   "file_extension": ".py",
   "mimetype": "text/x-python",
   "name": "python",
   "nbconvert_exporter": "python",
   "pygments_lexer": "ipython3",
   "version": "3.12.5"
  }
 },
 "nbformat": 4,
 "nbformat_minor": 5
}
